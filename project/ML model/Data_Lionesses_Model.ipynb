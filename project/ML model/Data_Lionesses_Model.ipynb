{
  "nbformat": 4,
  "nbformat_minor": 0,
  "metadata": {
    "colab": {
      "name": "Data Lionesses Model.ipynb",
      "provenance": []
    },
    "kernelspec": {
      "name": "python3",
      "display_name": "Python 3"
    },
    "language_info": {
      "name": "python"
    }
  },
  "cells": [
    {
      "cell_type": "markdown",
      "metadata": {
        "id": "seEHjkXymeVu"
      },
      "source": [
        "## Import data and explore data"
      ]
    },
    {
      "cell_type": "code",
      "metadata": {
        "id": "uo322Qx9eCGF"
      },
      "source": [
        "import pandas as pd\n",
        "\n",
        "aboriginal = pd.read_csv(\"CLEANaboriginal.csv\")\n",
        "\n",
        "income = pd.read_csv(\"CLEANincome.csv\")\n",
        "\n",
        "education = pd.read_csv(\"CLEANlabor_education.csv\")\n",
        "\n",
        "trafficking = pd.read_csv(\"CLEANhumantraffickingALL.csv\")\n",
        "\n",
        "sexploitation = pd.read_csv(\"CLEANsexploitation.csv\")"
      ],
      "execution_count": 1,
      "outputs": []
    },
    {
      "cell_type": "code",
      "metadata": {
        "colab": {
          "base_uri": "https://localhost:8080/",
          "height": 597
        },
        "id": "h49ohBAbjP5n",
        "outputId": "7332b139-269b-48dd-be4e-b8a50bb7b271"
      },
      "source": [
        "aboriginal"
      ],
      "execution_count": 2,
      "outputs": [
        {
          "output_type": "execute_result",
          "data": {
            "text/html": [
              "<div>\n",
              "<style scoped>\n",
              "    .dataframe tbody tr th:only-of-type {\n",
              "        vertical-align: middle;\n",
              "    }\n",
              "\n",
              "    .dataframe tbody tr th {\n",
              "        vertical-align: top;\n",
              "    }\n",
              "\n",
              "    .dataframe thead th {\n",
              "        text-align: right;\n",
              "    }\n",
              "</style>\n",
              "<table border=\"1\" class=\"dataframe\">\n",
              "  <thead>\n",
              "    <tr style=\"text-align: right;\">\n",
              "      <th></th>\n",
              "      <th>Region</th>\n",
              "      <th>Total - Individual low-income status [3]</th>\n",
              "      <th>Low-income status - not applicable [4]</th>\n",
              "      <th>Low-income status - applicable</th>\n",
              "      <th>In low income</th>\n",
              "      <th>Not in low income</th>\n",
              "      <th>Prevalence of low income (%) [5]</th>\n",
              "    </tr>\n",
              "  </thead>\n",
              "  <tbody>\n",
              "    <tr>\n",
              "      <th>0</th>\n",
              "      <td>Kingston</td>\n",
              "      <td>5585</td>\n",
              "      <td>0</td>\n",
              "      <td>5585</td>\n",
              "      <td>1520</td>\n",
              "      <td>4060</td>\n",
              "      <td>27.2</td>\n",
              "    </tr>\n",
              "    <tr>\n",
              "      <th>1</th>\n",
              "      <td>Belleville</td>\n",
              "      <td>5245</td>\n",
              "      <td>0</td>\n",
              "      <td>5245</td>\n",
              "      <td>1255</td>\n",
              "      <td>3990</td>\n",
              "      <td>23.9</td>\n",
              "    </tr>\n",
              "    <tr>\n",
              "      <th>2</th>\n",
              "      <td>Peterborough</td>\n",
              "      <td>5445</td>\n",
              "      <td>995</td>\n",
              "      <td>4445</td>\n",
              "      <td>1465</td>\n",
              "      <td>2980</td>\n",
              "      <td>33.0</td>\n",
              "    </tr>\n",
              "    <tr>\n",
              "      <th>3</th>\n",
              "      <td>Toronto</td>\n",
              "      <td>46320</td>\n",
              "      <td>210</td>\n",
              "      <td>46110</td>\n",
              "      <td>10030</td>\n",
              "      <td>36080</td>\n",
              "      <td>21.8</td>\n",
              "    </tr>\n",
              "    <tr>\n",
              "      <th>4</th>\n",
              "      <td>Hamilton</td>\n",
              "      <td>14440</td>\n",
              "      <td>0</td>\n",
              "      <td>14445</td>\n",
              "      <td>3885</td>\n",
              "      <td>10555</td>\n",
              "      <td>26.9</td>\n",
              "    </tr>\n",
              "    <tr>\n",
              "      <th>5</th>\n",
              "      <td>St.Catharines</td>\n",
              "      <td>11645</td>\n",
              "      <td>0</td>\n",
              "      <td>11645</td>\n",
              "      <td>3045</td>\n",
              "      <td>8600</td>\n",
              "      <td>26.1</td>\n",
              "    </tr>\n",
              "    <tr>\n",
              "      <th>6</th>\n",
              "      <td>Niagara</td>\n",
              "      <td>11645</td>\n",
              "      <td>0</td>\n",
              "      <td>11645</td>\n",
              "      <td>3045</td>\n",
              "      <td>8600</td>\n",
              "      <td>26.1</td>\n",
              "    </tr>\n",
              "    <tr>\n",
              "      <th>7</th>\n",
              "      <td>Kitchener</td>\n",
              "      <td>8880</td>\n",
              "      <td>0</td>\n",
              "      <td>8885</td>\n",
              "      <td>1605</td>\n",
              "      <td>7280</td>\n",
              "      <td>18.1</td>\n",
              "    </tr>\n",
              "    <tr>\n",
              "      <th>8</th>\n",
              "      <td>Cambridge</td>\n",
              "      <td>8880</td>\n",
              "      <td>0</td>\n",
              "      <td>8885</td>\n",
              "      <td>1605</td>\n",
              "      <td>7280</td>\n",
              "      <td>18.1</td>\n",
              "    </tr>\n",
              "    <tr>\n",
              "      <th>9</th>\n",
              "      <td>Waterloo</td>\n",
              "      <td>8880</td>\n",
              "      <td>0</td>\n",
              "      <td>8885</td>\n",
              "      <td>1605</td>\n",
              "      <td>7280</td>\n",
              "      <td>18.1</td>\n",
              "    </tr>\n",
              "    <tr>\n",
              "      <th>10</th>\n",
              "      <td>Brantford</td>\n",
              "      <td>6335</td>\n",
              "      <td>0</td>\n",
              "      <td>6335</td>\n",
              "      <td>1870</td>\n",
              "      <td>4470</td>\n",
              "      <td>29.5</td>\n",
              "    </tr>\n",
              "    <tr>\n",
              "      <th>11</th>\n",
              "      <td>Guelph</td>\n",
              "      <td>2280</td>\n",
              "      <td>0</td>\n",
              "      <td>2280</td>\n",
              "      <td>425</td>\n",
              "      <td>1860</td>\n",
              "      <td>18.6</td>\n",
              "    </tr>\n",
              "    <tr>\n",
              "      <th>12</th>\n",
              "      <td>London</td>\n",
              "      <td>12070</td>\n",
              "      <td>0</td>\n",
              "      <td>12075</td>\n",
              "      <td>3860</td>\n",
              "      <td>8205</td>\n",
              "      <td>32.0</td>\n",
              "    </tr>\n",
              "    <tr>\n",
              "      <th>13</th>\n",
              "      <td>Windsor</td>\n",
              "      <td>8485</td>\n",
              "      <td>0</td>\n",
              "      <td>8485</td>\n",
              "      <td>2070</td>\n",
              "      <td>6415</td>\n",
              "      <td>24.4</td>\n",
              "    </tr>\n",
              "    <tr>\n",
              "      <th>14</th>\n",
              "      <td>Barrie</td>\n",
              "      <td>6905</td>\n",
              "      <td>0</td>\n",
              "      <td>6905</td>\n",
              "      <td>1090</td>\n",
              "      <td>5820</td>\n",
              "      <td>15.8</td>\n",
              "    </tr>\n",
              "    <tr>\n",
              "      <th>15</th>\n",
              "      <td>Greater Sudbury</td>\n",
              "      <td>15695</td>\n",
              "      <td>460</td>\n",
              "      <td>15235</td>\n",
              "      <td>3225</td>\n",
              "      <td>12015</td>\n",
              "      <td>21.2</td>\n",
              "    </tr>\n",
              "    <tr>\n",
              "      <th>16</th>\n",
              "      <td>Thunder Bay</td>\n",
              "      <td>15075</td>\n",
              "      <td>795</td>\n",
              "      <td>14275</td>\n",
              "      <td>5330</td>\n",
              "      <td>8950</td>\n",
              "      <td>37.3</td>\n",
              "    </tr>\n",
              "  </tbody>\n",
              "</table>\n",
              "</div>"
            ],
            "text/plain": [
              "             Region  ...  Prevalence of low income (%) [5]\n",
              "0          Kingston  ...                              27.2\n",
              "1        Belleville  ...                              23.9\n",
              "2      Peterborough  ...                              33.0\n",
              "3           Toronto  ...                              21.8\n",
              "4          Hamilton  ...                              26.9\n",
              "5     St.Catharines  ...                              26.1\n",
              "6           Niagara  ...                              26.1\n",
              "7         Kitchener  ...                              18.1\n",
              "8         Cambridge  ...                              18.1\n",
              "9          Waterloo  ...                              18.1\n",
              "10        Brantford  ...                              29.5\n",
              "11           Guelph  ...                              18.6\n",
              "12           London  ...                              32.0\n",
              "13          Windsor  ...                              24.4\n",
              "14           Barrie  ...                              15.8\n",
              "15  Greater Sudbury  ...                              21.2\n",
              "16      Thunder Bay  ...                              37.3\n",
              "\n",
              "[17 rows x 7 columns]"
            ]
          },
          "metadata": {
            "tags": []
          },
          "execution_count": 2
        }
      ]
    },
    {
      "cell_type": "code",
      "metadata": {
        "colab": {
          "base_uri": "https://localhost:8080/"
        },
        "id": "CNjj21AEMMBK",
        "outputId": "1afcc3a3-5e46-47e0-a758-e962066b886b"
      },
      "source": [
        "aboriginal.dtypes"
      ],
      "execution_count": 3,
      "outputs": [
        {
          "output_type": "execute_result",
          "data": {
            "text/plain": [
              "Region                                       object\n",
              "Total - Individual low-income status [3]      int64\n",
              "Low-income status - not applicable [4]        int64\n",
              "Low-income status - applicable                int64\n",
              "In low income                                 int64\n",
              "Not in low income                             int64\n",
              "Prevalence of low income (%) [5]            float64\n",
              "dtype: object"
            ]
          },
          "metadata": {
            "tags": []
          },
          "execution_count": 3
        }
      ]
    },
    {
      "cell_type": "code",
      "metadata": {
        "colab": {
          "base_uri": "https://localhost:8080/",
          "height": 614
        },
        "id": "dNXPt37ojSnC",
        "outputId": "fc280393-5cec-40b5-8ba7-4dcab46c02ff"
      },
      "source": [
        "income"
      ],
      "execution_count": 4,
      "outputs": [
        {
          "output_type": "execute_result",
          "data": {
            "text/html": [
              "<div>\n",
              "<style scoped>\n",
              "    .dataframe tbody tr th:only-of-type {\n",
              "        vertical-align: middle;\n",
              "    }\n",
              "\n",
              "    .dataframe tbody tr th {\n",
              "        vertical-align: top;\n",
              "    }\n",
              "\n",
              "    .dataframe thead th {\n",
              "        text-align: right;\n",
              "    }\n",
              "</style>\n",
              "<table border=\"1\" class=\"dataframe\">\n",
              "  <thead>\n",
              "    <tr style=\"text-align: right;\">\n",
              "      <th></th>\n",
              "      <th>Region</th>\n",
              "      <th>Total - Household low-income status</th>\n",
              "      <th>Low-income status - not applicable</th>\n",
              "      <th>Low-income status - applicable</th>\n",
              "      <th>In low income</th>\n",
              "      <th>Not in low income</th>\n",
              "      <th>Prevalence of low income</th>\n",
              "    </tr>\n",
              "  </thead>\n",
              "  <tbody>\n",
              "    <tr>\n",
              "      <th>0</th>\n",
              "      <td>Kingston</td>\n",
              "      <td>53520</td>\n",
              "      <td>0</td>\n",
              "      <td>53515</td>\n",
              "      <td>9870</td>\n",
              "      <td>43650</td>\n",
              "      <td>18.441704</td>\n",
              "    </tr>\n",
              "    <tr>\n",
              "      <th>1</th>\n",
              "      <td>Belleville</td>\n",
              "      <td>21730</td>\n",
              "      <td>0</td>\n",
              "      <td>21730</td>\n",
              "      <td>4550</td>\n",
              "      <td>17185</td>\n",
              "      <td>20.933977</td>\n",
              "    </tr>\n",
              "    <tr>\n",
              "      <th>2</th>\n",
              "      <td>Peterborough</td>\n",
              "      <td>57740</td>\n",
              "      <td>610</td>\n",
              "      <td>57135</td>\n",
              "      <td>10635</td>\n",
              "      <td>46495</td>\n",
              "      <td>22.873427</td>\n",
              "    </tr>\n",
              "    <tr>\n",
              "      <th>3</th>\n",
              "      <td>Toronto</td>\n",
              "      <td>1112930</td>\n",
              "      <td>0</td>\n",
              "      <td>1112925</td>\n",
              "      <td>259085</td>\n",
              "      <td>853845</td>\n",
              "      <td>23.279541</td>\n",
              "    </tr>\n",
              "    <tr>\n",
              "      <th>4</th>\n",
              "      <td>Hamilton</td>\n",
              "      <td>211600</td>\n",
              "      <td>0</td>\n",
              "      <td>211595</td>\n",
              "      <td>39370</td>\n",
              "      <td>172230</td>\n",
              "      <td>18.605860</td>\n",
              "    </tr>\n",
              "    <tr>\n",
              "      <th>5</th>\n",
              "      <td>Guelph</td>\n",
              "      <td>52090</td>\n",
              "      <td>0</td>\n",
              "      <td>52090</td>\n",
              "      <td>7490</td>\n",
              "      <td>44600</td>\n",
              "      <td>14.378959</td>\n",
              "    </tr>\n",
              "    <tr>\n",
              "      <th>6</th>\n",
              "      <td>Niagara</td>\n",
              "      <td>183830</td>\n",
              "      <td>0</td>\n",
              "      <td>183830</td>\n",
              "      <td>32860</td>\n",
              "      <td>150965</td>\n",
              "      <td>17.875697</td>\n",
              "    </tr>\n",
              "    <tr>\n",
              "      <th>7</th>\n",
              "      <td>St. Catharines</td>\n",
              "      <td>56875</td>\n",
              "      <td>0</td>\n",
              "      <td>56870</td>\n",
              "      <td>11860</td>\n",
              "      <td>45010</td>\n",
              "      <td>20.854581</td>\n",
              "    </tr>\n",
              "    <tr>\n",
              "      <th>8</th>\n",
              "      <td>Brantford</td>\n",
              "      <td>39215</td>\n",
              "      <td>0</td>\n",
              "      <td>39215</td>\n",
              "      <td>7580</td>\n",
              "      <td>31635</td>\n",
              "      <td>19.329338</td>\n",
              "    </tr>\n",
              "    <tr>\n",
              "      <th>9</th>\n",
              "      <td>Cambridge</td>\n",
              "      <td>48240</td>\n",
              "      <td>0</td>\n",
              "      <td>48240</td>\n",
              "      <td>6585</td>\n",
              "      <td>41655</td>\n",
              "      <td>13.650498</td>\n",
              "    </tr>\n",
              "    <tr>\n",
              "      <th>10</th>\n",
              "      <td>Kitchener</td>\n",
              "      <td>92215</td>\n",
              "      <td>0</td>\n",
              "      <td>92220</td>\n",
              "      <td>14925</td>\n",
              "      <td>77295</td>\n",
              "      <td>16.184125</td>\n",
              "    </tr>\n",
              "    <tr>\n",
              "      <th>11</th>\n",
              "      <td>Waterloo</td>\n",
              "      <td>40385</td>\n",
              "      <td>0</td>\n",
              "      <td>40380</td>\n",
              "      <td>6530</td>\n",
              "      <td>33850</td>\n",
              "      <td>16.171372</td>\n",
              "    </tr>\n",
              "    <tr>\n",
              "      <th>12</th>\n",
              "      <td>Windsor</td>\n",
              "      <td>91630</td>\n",
              "      <td>0</td>\n",
              "      <td>91630</td>\n",
              "      <td>23550</td>\n",
              "      <td>68085</td>\n",
              "      <td>25.699787</td>\n",
              "    </tr>\n",
              "    <tr>\n",
              "      <th>13</th>\n",
              "      <td>London</td>\n",
              "      <td>163140</td>\n",
              "      <td>0</td>\n",
              "      <td>163140</td>\n",
              "      <td>35065</td>\n",
              "      <td>128075</td>\n",
              "      <td>21.493809</td>\n",
              "    </tr>\n",
              "    <tr>\n",
              "      <th>14</th>\n",
              "      <td>Barrie</td>\n",
              "      <td>52475</td>\n",
              "      <td>0</td>\n",
              "      <td>52475</td>\n",
              "      <td>7755</td>\n",
              "      <td>44720</td>\n",
              "      <td>14.778466</td>\n",
              "    </tr>\n",
              "    <tr>\n",
              "      <th>15</th>\n",
              "      <td>Greater Sudbury</td>\n",
              "      <td>69200</td>\n",
              "      <td>45</td>\n",
              "      <td>69155</td>\n",
              "      <td>11540</td>\n",
              "      <td>57615</td>\n",
              "      <td>16.687152</td>\n",
              "    </tr>\n",
              "    <tr>\n",
              "      <th>16</th>\n",
              "      <td>Thunder Bay</td>\n",
              "      <td>62995</td>\n",
              "      <td>1360</td>\n",
              "      <td>61640</td>\n",
              "      <td>10490</td>\n",
              "      <td>51155</td>\n",
              "      <td>17.016790</td>\n",
              "    </tr>\n",
              "  </tbody>\n",
              "</table>\n",
              "</div>"
            ],
            "text/plain": [
              "             Region  ...  Prevalence of low income\n",
              "0          Kingston  ...                 18.441704\n",
              "1        Belleville  ...                 20.933977\n",
              "2      Peterborough  ...                 22.873427\n",
              "3           Toronto  ...                 23.279541\n",
              "4          Hamilton  ...                 18.605860\n",
              "5            Guelph  ...                 14.378959\n",
              "6           Niagara  ...                 17.875697\n",
              "7    St. Catharines  ...                 20.854581\n",
              "8         Brantford  ...                 19.329338\n",
              "9         Cambridge  ...                 13.650498\n",
              "10        Kitchener  ...                 16.184125\n",
              "11         Waterloo  ...                 16.171372\n",
              "12          Windsor  ...                 25.699787\n",
              "13           London  ...                 21.493809\n",
              "14           Barrie  ...                 14.778466\n",
              "15  Greater Sudbury  ...                 16.687152\n",
              "16      Thunder Bay  ...                 17.016790\n",
              "\n",
              "[17 rows x 7 columns]"
            ]
          },
          "metadata": {
            "tags": []
          },
          "execution_count": 4
        }
      ]
    },
    {
      "cell_type": "code",
      "metadata": {
        "colab": {
          "base_uri": "https://localhost:8080/"
        },
        "id": "cq7FJHBsMQQE",
        "outputId": "101ac6eb-94fe-4156-ee6c-efb28e1a3454"
      },
      "source": [
        "income.dtypes"
      ],
      "execution_count": 5,
      "outputs": [
        {
          "output_type": "execute_result",
          "data": {
            "text/plain": [
              "Region                                   object\n",
              "Total - Household low-income status       int64\n",
              " Low-income status - not applicable       int64\n",
              "Low-income status - applicable            int64\n",
              "In low income                             int64\n",
              "Not in low income                         int64\n",
              "Prevalence of low income                float64\n",
              "dtype: object"
            ]
          },
          "metadata": {
            "tags": []
          },
          "execution_count": 5
        }
      ]
    },
    {
      "cell_type": "code",
      "metadata": {
        "colab": {
          "base_uri": "https://localhost:8080/",
          "height": 614
        },
        "id": "KfAbuIEMjYwz",
        "outputId": "dd9c3f60-daa6-4022-e367-e778c9a93833"
      },
      "source": [
        "education"
      ],
      "execution_count": 6,
      "outputs": [
        {
          "output_type": "execute_result",
          "data": {
            "text/html": [
              "<div>\n",
              "<style scoped>\n",
              "    .dataframe tbody tr th:only-of-type {\n",
              "        vertical-align: middle;\n",
              "    }\n",
              "\n",
              "    .dataframe tbody tr th {\n",
              "        vertical-align: top;\n",
              "    }\n",
              "\n",
              "    .dataframe thead th {\n",
              "        text-align: right;\n",
              "    }\n",
              "</style>\n",
              "<table border=\"1\" class=\"dataframe\">\n",
              "  <thead>\n",
              "    <tr style=\"text-align: right;\">\n",
              "      <th></th>\n",
              "      <th>Region</th>\n",
              "      <th>Total - Labour force status [2]</th>\n",
              "      <th>In the labour force</th>\n",
              "      <th>Employed</th>\n",
              "      <th>Unemployed</th>\n",
              "      <th>Not in the labour force</th>\n",
              "      <th>Participation rate</th>\n",
              "      <th>Employment rate</th>\n",
              "      <th>Unemployment rate</th>\n",
              "      <th>% no postsecondary study</th>\n",
              "    </tr>\n",
              "  </thead>\n",
              "  <tbody>\n",
              "    <tr>\n",
              "      <th>0</th>\n",
              "      <td>Kingston</td>\n",
              "      <td>102120</td>\n",
              "      <td>63770</td>\n",
              "      <td>58710</td>\n",
              "      <td>5060</td>\n",
              "      <td>38355</td>\n",
              "      <td>62.4</td>\n",
              "      <td>57.5</td>\n",
              "      <td>7.9</td>\n",
              "      <td>41.676459</td>\n",
              "    </tr>\n",
              "    <tr>\n",
              "      <th>1</th>\n",
              "      <td>Belleville</td>\n",
              "      <td>41475</td>\n",
              "      <td>24380</td>\n",
              "      <td>22640</td>\n",
              "      <td>1735</td>\n",
              "      <td>17100</td>\n",
              "      <td>58.8</td>\n",
              "      <td>54.6</td>\n",
              "      <td>7.1</td>\n",
              "      <td>51.127185</td>\n",
              "    </tr>\n",
              "    <tr>\n",
              "      <th>2</th>\n",
              "      <td>Peterborough</td>\n",
              "      <td>115245</td>\n",
              "      <td>68180</td>\n",
              "      <td>62740</td>\n",
              "      <td>5440</td>\n",
              "      <td>47065</td>\n",
              "      <td>59.2</td>\n",
              "      <td>54.4</td>\n",
              "      <td>8.0</td>\n",
              "      <td>45.928240</td>\n",
              "    </tr>\n",
              "    <tr>\n",
              "      <th>3</th>\n",
              "      <td>Toronto</td>\n",
              "      <td>2294790</td>\n",
              "      <td>1483680</td>\n",
              "      <td>1361375</td>\n",
              "      <td>122305</td>\n",
              "      <td>811110</td>\n",
              "      <td>64.7</td>\n",
              "      <td>59.3</td>\n",
              "      <td>8.2</td>\n",
              "      <td>40.893938</td>\n",
              "    </tr>\n",
              "    <tr>\n",
              "      <th>4</th>\n",
              "      <td>Hamilton</td>\n",
              "      <td>441060</td>\n",
              "      <td>278640</td>\n",
              "      <td>259070</td>\n",
              "      <td>19575</td>\n",
              "      <td>162410</td>\n",
              "      <td>63.2</td>\n",
              "      <td>58.7</td>\n",
              "      <td>7.0</td>\n",
              "      <td>48.365302</td>\n",
              "    </tr>\n",
              "    <tr>\n",
              "      <th>5</th>\n",
              "      <td>St.Catharines</td>\n",
              "      <td>111055</td>\n",
              "      <td>67005</td>\n",
              "      <td>61575</td>\n",
              "      <td>5435</td>\n",
              "      <td>44050</td>\n",
              "      <td>60.3</td>\n",
              "      <td>55.4</td>\n",
              "      <td>8.1</td>\n",
              "      <td>49.164828</td>\n",
              "    </tr>\n",
              "    <tr>\n",
              "      <th>6</th>\n",
              "      <td>Niagara</td>\n",
              "      <td>371555</td>\n",
              "      <td>226595</td>\n",
              "      <td>209890</td>\n",
              "      <td>16705</td>\n",
              "      <td>144965</td>\n",
              "      <td>61.0</td>\n",
              "      <td>56.5</td>\n",
              "      <td>7.4</td>\n",
              "      <td>49.466432</td>\n",
              "    </tr>\n",
              "    <tr>\n",
              "      <th>7</th>\n",
              "      <td>Kitchener</td>\n",
              "      <td>189220</td>\n",
              "      <td>130080</td>\n",
              "      <td>121190</td>\n",
              "      <td>8890</td>\n",
              "      <td>59140</td>\n",
              "      <td>68.7</td>\n",
              "      <td>64.0</td>\n",
              "      <td>6.8</td>\n",
              "      <td>47.566325</td>\n",
              "    </tr>\n",
              "    <tr>\n",
              "      <th>8</th>\n",
              "      <td>Cambridge</td>\n",
              "      <td>104035</td>\n",
              "      <td>71880</td>\n",
              "      <td>67305</td>\n",
              "      <td>4575</td>\n",
              "      <td>32150</td>\n",
              "      <td>69.1</td>\n",
              "      <td>64.7</td>\n",
              "      <td>6.4</td>\n",
              "      <td>53.525256</td>\n",
              "    </tr>\n",
              "    <tr>\n",
              "      <th>9</th>\n",
              "      <td>Waterloo</td>\n",
              "      <td>86985</td>\n",
              "      <td>57270</td>\n",
              "      <td>53325</td>\n",
              "      <td>3950</td>\n",
              "      <td>29710</td>\n",
              "      <td>65.8</td>\n",
              "      <td>61.3</td>\n",
              "      <td>6.9</td>\n",
              "      <td>38.966488</td>\n",
              "    </tr>\n",
              "    <tr>\n",
              "      <th>10</th>\n",
              "      <td>Brantford</td>\n",
              "      <td>78495</td>\n",
              "      <td>49970</td>\n",
              "      <td>46540</td>\n",
              "      <td>3430</td>\n",
              "      <td>28530</td>\n",
              "      <td>63.7</td>\n",
              "      <td>59.3</td>\n",
              "      <td>6.9</td>\n",
              "      <td>54.067138</td>\n",
              "    </tr>\n",
              "    <tr>\n",
              "      <th>11</th>\n",
              "      <td>Guelph</td>\n",
              "      <td>107445</td>\n",
              "      <td>75685</td>\n",
              "      <td>71075</td>\n",
              "      <td>4610</td>\n",
              "      <td>31760</td>\n",
              "      <td>70.4</td>\n",
              "      <td>66.2</td>\n",
              "      <td>6.1</td>\n",
              "      <td>43.785192</td>\n",
              "    </tr>\n",
              "    <tr>\n",
              "      <th>12</th>\n",
              "      <td>London</td>\n",
              "      <td>316310</td>\n",
              "      <td>199835</td>\n",
              "      <td>184015</td>\n",
              "      <td>15815</td>\n",
              "      <td>116475</td>\n",
              "      <td>63.2</td>\n",
              "      <td>58.2</td>\n",
              "      <td>7.9</td>\n",
              "      <td>44.383674</td>\n",
              "    </tr>\n",
              "    <tr>\n",
              "      <th>13</th>\n",
              "      <td>Windsor</td>\n",
              "      <td>178585</td>\n",
              "      <td>101880</td>\n",
              "      <td>92535</td>\n",
              "      <td>9345</td>\n",
              "      <td>76710</td>\n",
              "      <td>57.0</td>\n",
              "      <td>51.8</td>\n",
              "      <td>9.2</td>\n",
              "      <td>50.922530</td>\n",
              "    </tr>\n",
              "    <tr>\n",
              "      <th>14</th>\n",
              "      <td>Barrie</td>\n",
              "      <td>113570</td>\n",
              "      <td>78945</td>\n",
              "      <td>73075</td>\n",
              "      <td>5870</td>\n",
              "      <td>34630</td>\n",
              "      <td>69.5</td>\n",
              "      <td>64.3</td>\n",
              "      <td>7.4</td>\n",
              "      <td>48.608788</td>\n",
              "    </tr>\n",
              "    <tr>\n",
              "      <th>15</th>\n",
              "      <td>Greater Sudbury</td>\n",
              "      <td>133735</td>\n",
              "      <td>83740</td>\n",
              "      <td>76755</td>\n",
              "      <td>6990</td>\n",
              "      <td>49995</td>\n",
              "      <td>62.6</td>\n",
              "      <td>57.4</td>\n",
              "      <td>8.3</td>\n",
              "      <td>46.027592</td>\n",
              "    </tr>\n",
              "    <tr>\n",
              "      <th>16</th>\n",
              "      <td>Thunder Bay</td>\n",
              "      <td>121260</td>\n",
              "      <td>73140</td>\n",
              "      <td>67115</td>\n",
              "      <td>6025</td>\n",
              "      <td>48120</td>\n",
              "      <td>60.3</td>\n",
              "      <td>55.3</td>\n",
              "      <td>8.2</td>\n",
              "      <td>47.109517</td>\n",
              "    </tr>\n",
              "  </tbody>\n",
              "</table>\n",
              "</div>"
            ],
            "text/plain": [
              "             Region  ...  % no postsecondary study\n",
              "0          Kingston  ...                 41.676459\n",
              "1        Belleville  ...                 51.127185\n",
              "2      Peterborough  ...                 45.928240\n",
              "3           Toronto  ...                 40.893938\n",
              "4          Hamilton  ...                 48.365302\n",
              "5     St.Catharines  ...                 49.164828\n",
              "6           Niagara  ...                 49.466432\n",
              "7         Kitchener  ...                 47.566325\n",
              "8         Cambridge  ...                 53.525256\n",
              "9          Waterloo  ...                 38.966488\n",
              "10        Brantford  ...                 54.067138\n",
              "11           Guelph  ...                 43.785192\n",
              "12           London  ...                 44.383674\n",
              "13          Windsor  ...                 50.922530\n",
              "14           Barrie  ...                 48.608788\n",
              "15  Greater Sudbury  ...                 46.027592\n",
              "16      Thunder Bay  ...                 47.109517\n",
              "\n",
              "[17 rows x 10 columns]"
            ]
          },
          "metadata": {
            "tags": []
          },
          "execution_count": 6
        }
      ]
    },
    {
      "cell_type": "code",
      "metadata": {
        "colab": {
          "base_uri": "https://localhost:8080/"
        },
        "id": "iyqIpo_VMSNE",
        "outputId": "416d7516-6cce-49b2-af39-96b687b632e8"
      },
      "source": [
        "education.dtypes"
      ],
      "execution_count": 7,
      "outputs": [
        {
          "output_type": "execute_result",
          "data": {
            "text/plain": [
              "Region                              object\n",
              "Total - Labour force status [2]      int64\n",
              "In the labour force                  int64\n",
              "Employed                             int64\n",
              "Unemployed                           int64\n",
              "Not in the labour force              int64\n",
              "Participation rate                 float64\n",
              "Employment rate                    float64\n",
              "Unemployment rate                  float64\n",
              "% no postsecondary study           float64\n",
              "dtype: object"
            ]
          },
          "metadata": {
            "tags": []
          },
          "execution_count": 7
        }
      ]
    },
    {
      "cell_type": "code",
      "metadata": {
        "colab": {
          "base_uri": "https://localhost:8080/",
          "height": 733
        },
        "id": "v1bDwhmAjZho",
        "outputId": "22410132-1429-4751-9e63-f20b3357028f"
      },
      "source": [
        "trafficking"
      ],
      "execution_count": 8,
      "outputs": [
        {
          "output_type": "execute_result",
          "data": {
            "text/html": [
              "<div>\n",
              "<style scoped>\n",
              "    .dataframe tbody tr th:only-of-type {\n",
              "        vertical-align: middle;\n",
              "    }\n",
              "\n",
              "    .dataframe tbody tr th {\n",
              "        vertical-align: top;\n",
              "    }\n",
              "\n",
              "    .dataframe thead th {\n",
              "        text-align: right;\n",
              "    }\n",
              "</style>\n",
              "<table border=\"1\" class=\"dataframe\">\n",
              "  <thead>\n",
              "    <tr style=\"text-align: right;\">\n",
              "      <th></th>\n",
              "      <th>Region Identifier</th>\n",
              "      <th>Region</th>\n",
              "      <th>Actual incidents</th>\n",
              "      <th>Rate per 100,000 population</th>\n",
              "      <th>Percentage change in rate</th>\n",
              "      <th>Total cleared</th>\n",
              "      <th>Total, persons charged</th>\n",
              "      <th>Rate, total persons charged per 100,000 population aged 12 years and over</th>\n",
              "      <th>Total, adult charged</th>\n",
              "      <th>Rate, adult charged per 100,000 population aged 18 years and over</th>\n",
              "      <th>Total, youth charged</th>\n",
              "      <th>Rate, youth charged per 100,000 population aged 12 to 17 years</th>\n",
              "    </tr>\n",
              "  </thead>\n",
              "  <tbody>\n",
              "    <tr>\n",
              "      <th>0</th>\n",
              "      <td>35521.0</td>\n",
              "      <td>Kingston</td>\n",
              "      <td>0</td>\n",
              "      <td>0.00</td>\n",
              "      <td>0.00</td>\n",
              "      <td>0</td>\n",
              "      <td>0</td>\n",
              "      <td>0.00</td>\n",
              "      <td>0</td>\n",
              "      <td>0.00</td>\n",
              "      <td>0</td>\n",
              "      <td>0.00</td>\n",
              "    </tr>\n",
              "    <tr>\n",
              "      <th>1</th>\n",
              "      <td>35522.0</td>\n",
              "      <td>Belleville</td>\n",
              "      <td>1</td>\n",
              "      <td>0.99</td>\n",
              "      <td>6.01</td>\n",
              "      <td>1</td>\n",
              "      <td>1</td>\n",
              "      <td>1.14</td>\n",
              "      <td>1</td>\n",
              "      <td>1.23</td>\n",
              "      <td>0</td>\n",
              "      <td>0.00</td>\n",
              "    </tr>\n",
              "    <tr>\n",
              "      <th>2</th>\n",
              "      <td>35529.0</td>\n",
              "      <td>Peterborough</td>\n",
              "      <td>2</td>\n",
              "      <td>1.62</td>\n",
              "      <td>100.00</td>\n",
              "      <td>1</td>\n",
              "      <td>1</td>\n",
              "      <td>0.92</td>\n",
              "      <td>0</td>\n",
              "      <td>0.00</td>\n",
              "      <td>1</td>\n",
              "      <td>13.89</td>\n",
              "    </tr>\n",
              "    <tr>\n",
              "      <th>3</th>\n",
              "      <td>35535.0</td>\n",
              "      <td>Toronto</td>\n",
              "      <td>52</td>\n",
              "      <td>0.85</td>\n",
              "      <td>21.74</td>\n",
              "      <td>48</td>\n",
              "      <td>63</td>\n",
              "      <td>1.19</td>\n",
              "      <td>60</td>\n",
              "      <td>1.23</td>\n",
              "      <td>3</td>\n",
              "      <td>0.72</td>\n",
              "    </tr>\n",
              "    <tr>\n",
              "      <th>4</th>\n",
              "      <td>35537.0</td>\n",
              "      <td>Hamilton</td>\n",
              "      <td>14</td>\n",
              "      <td>1.87</td>\n",
              "      <td>97.83</td>\n",
              "      <td>12</td>\n",
              "      <td>10</td>\n",
              "      <td>1.54</td>\n",
              "      <td>9</td>\n",
              "      <td>1.51</td>\n",
              "      <td>1</td>\n",
              "      <td>1.88</td>\n",
              "    </tr>\n",
              "    <tr>\n",
              "      <th>5</th>\n",
              "      <td>35539.0</td>\n",
              "      <td>St.Catharines</td>\n",
              "      <td>1</td>\n",
              "      <td>0.22</td>\n",
              "      <td>-75.31</td>\n",
              "      <td>1</td>\n",
              "      <td>1</td>\n",
              "      <td>0.25</td>\n",
              "      <td>1</td>\n",
              "      <td>0.27</td>\n",
              "      <td>0</td>\n",
              "      <td>0.00</td>\n",
              "    </tr>\n",
              "    <tr>\n",
              "      <th>6</th>\n",
              "      <td>NaN</td>\n",
              "      <td>Niagara</td>\n",
              "      <td>1</td>\n",
              "      <td>0.22</td>\n",
              "      <td>-75.31</td>\n",
              "      <td>1</td>\n",
              "      <td>1</td>\n",
              "      <td>0.25</td>\n",
              "      <td>1</td>\n",
              "      <td>0.27</td>\n",
              "      <td>0</td>\n",
              "      <td>0.00</td>\n",
              "    </tr>\n",
              "    <tr>\n",
              "      <th>7</th>\n",
              "      <td>35541.0</td>\n",
              "      <td>Kitchener</td>\n",
              "      <td>5</td>\n",
              "      <td>0.90</td>\n",
              "      <td>22.44</td>\n",
              "      <td>2</td>\n",
              "      <td>5</td>\n",
              "      <td>1.05</td>\n",
              "      <td>5</td>\n",
              "      <td>1.14</td>\n",
              "      <td>0</td>\n",
              "      <td>0.00</td>\n",
              "    </tr>\n",
              "    <tr>\n",
              "      <th>8</th>\n",
              "      <td>NaN</td>\n",
              "      <td>Cambridge</td>\n",
              "      <td>5</td>\n",
              "      <td>0.90</td>\n",
              "      <td>22.44</td>\n",
              "      <td>2</td>\n",
              "      <td>5</td>\n",
              "      <td>1.05</td>\n",
              "      <td>5</td>\n",
              "      <td>1.14</td>\n",
              "      <td>0</td>\n",
              "      <td>0.00</td>\n",
              "    </tr>\n",
              "    <tr>\n",
              "      <th>9</th>\n",
              "      <td>NaN</td>\n",
              "      <td>Waterloo</td>\n",
              "      <td>5</td>\n",
              "      <td>0.90</td>\n",
              "      <td>22.44</td>\n",
              "      <td>2</td>\n",
              "      <td>5</td>\n",
              "      <td>1.05</td>\n",
              "      <td>5</td>\n",
              "      <td>1.14</td>\n",
              "      <td>0</td>\n",
              "      <td>0.00</td>\n",
              "    </tr>\n",
              "    <tr>\n",
              "      <th>10</th>\n",
              "      <td>35543.0</td>\n",
              "      <td>Brantford</td>\n",
              "      <td>1</td>\n",
              "      <td>0.69</td>\n",
              "      <td>100.00</td>\n",
              "      <td>1</td>\n",
              "      <td>1</td>\n",
              "      <td>0.80</td>\n",
              "      <td>1</td>\n",
              "      <td>0.88</td>\n",
              "      <td>0</td>\n",
              "      <td>0.00</td>\n",
              "    </tr>\n",
              "    <tr>\n",
              "      <th>11</th>\n",
              "      <td>35550.0</td>\n",
              "      <td>Guelph</td>\n",
              "      <td>1</td>\n",
              "      <td>0.73</td>\n",
              "      <td>-51.34</td>\n",
              "      <td>1</td>\n",
              "      <td>1</td>\n",
              "      <td>0.85</td>\n",
              "      <td>1</td>\n",
              "      <td>0.92</td>\n",
              "      <td>0</td>\n",
              "      <td>0.00</td>\n",
              "    </tr>\n",
              "    <tr>\n",
              "      <th>12</th>\n",
              "      <td>35555.0</td>\n",
              "      <td>London</td>\n",
              "      <td>10</td>\n",
              "      <td>1.96</td>\n",
              "      <td>40.64</td>\n",
              "      <td>2</td>\n",
              "      <td>2</td>\n",
              "      <td>0.45</td>\n",
              "      <td>2</td>\n",
              "      <td>0.49</td>\n",
              "      <td>0</td>\n",
              "      <td>0.00</td>\n",
              "    </tr>\n",
              "    <tr>\n",
              "      <th>13</th>\n",
              "      <td>35559.0</td>\n",
              "      <td>Windsor</td>\n",
              "      <td>0</td>\n",
              "      <td>0.00</td>\n",
              "      <td>-100.00</td>\n",
              "      <td>0</td>\n",
              "      <td>0</td>\n",
              "      <td>0.00</td>\n",
              "      <td>0</td>\n",
              "      <td>0.00</td>\n",
              "      <td>0</td>\n",
              "      <td>0.00</td>\n",
              "    </tr>\n",
              "    <tr>\n",
              "      <th>14</th>\n",
              "      <td>35568.0</td>\n",
              "      <td>Barrie</td>\n",
              "      <td>2</td>\n",
              "      <td>0.91</td>\n",
              "      <td>-1.87</td>\n",
              "      <td>1</td>\n",
              "      <td>2</td>\n",
              "      <td>1.06</td>\n",
              "      <td>2</td>\n",
              "      <td>1.16</td>\n",
              "      <td>0</td>\n",
              "      <td>0.00</td>\n",
              "    </tr>\n",
              "    <tr>\n",
              "      <th>15</th>\n",
              "      <td>35580.0</td>\n",
              "      <td>Greater Sudbury</td>\n",
              "      <td>2</td>\n",
              "      <td>1.21</td>\n",
              "      <td>-33.48</td>\n",
              "      <td>2</td>\n",
              "      <td>2</td>\n",
              "      <td>1.37</td>\n",
              "      <td>2</td>\n",
              "      <td>1.48</td>\n",
              "      <td>0</td>\n",
              "      <td>0.00</td>\n",
              "    </tr>\n",
              "    <tr>\n",
              "      <th>16</th>\n",
              "      <td>35595.0</td>\n",
              "      <td>Thunder Bay</td>\n",
              "      <td>0</td>\n",
              "      <td>0.00</td>\n",
              "      <td>0.00</td>\n",
              "      <td>0</td>\n",
              "      <td>0</td>\n",
              "      <td>0.00</td>\n",
              "      <td>0</td>\n",
              "      <td>0.00</td>\n",
              "      <td>0</td>\n",
              "      <td>0.00</td>\n",
              "    </tr>\n",
              "  </tbody>\n",
              "</table>\n",
              "</div>"
            ],
            "text/plain": [
              "    Region Identifier  ... Rate, youth charged per 100,000 population aged 12 to 17 years \n",
              "0             35521.0  ...                                               0.00             \n",
              "1             35522.0  ...                                               0.00             \n",
              "2             35529.0  ...                                              13.89             \n",
              "3             35535.0  ...                                               0.72             \n",
              "4             35537.0  ...                                               1.88             \n",
              "5             35539.0  ...                                               0.00             \n",
              "6                 NaN  ...                                               0.00             \n",
              "7             35541.0  ...                                               0.00             \n",
              "8                 NaN  ...                                               0.00             \n",
              "9                 NaN  ...                                               0.00             \n",
              "10            35543.0  ...                                               0.00             \n",
              "11            35550.0  ...                                               0.00             \n",
              "12            35555.0  ...                                               0.00             \n",
              "13            35559.0  ...                                               0.00             \n",
              "14            35568.0  ...                                               0.00             \n",
              "15            35580.0  ...                                               0.00             \n",
              "16            35595.0  ...                                               0.00             \n",
              "\n",
              "[17 rows x 12 columns]"
            ]
          },
          "metadata": {
            "tags": []
          },
          "execution_count": 8
        }
      ]
    },
    {
      "cell_type": "code",
      "metadata": {
        "colab": {
          "base_uri": "https://localhost:8080/"
        },
        "id": "Be1KFipOMVET",
        "outputId": "24d322bb-3264-48fb-d68a-afbe48da6795"
      },
      "source": [
        "trafficking.dtypes"
      ],
      "execution_count": 9,
      "outputs": [
        {
          "output_type": "execute_result",
          "data": {
            "text/plain": [
              "Region Identifier                                                             float64\n",
              "Region                                                                         object\n",
              "Actual incidents                                                                int64\n",
              "Rate per 100,000 population                                                   float64\n",
              "Percentage change in rate                                                     float64\n",
              "Total cleared                                                                   int64\n",
              "Total, persons charged                                                          int64\n",
              "Rate, total persons charged per 100,000 population aged 12 years and over     float64\n",
              "Total, adult charged                                                            int64\n",
              "Rate, adult charged per 100,000 population aged 18 years and over             float64\n",
              "Total, youth charged                                                            int64\n",
              "Rate, youth charged per 100,000 population aged 12 to 17 years                float64\n",
              "dtype: object"
            ]
          },
          "metadata": {
            "tags": []
          },
          "execution_count": 9
        }
      ]
    },
    {
      "cell_type": "code",
      "metadata": {
        "id": "rJODjtbZZQdU"
      },
      "source": [
        "trafficking_feature = trafficking[['Region','Actual incidents']]\n",
        "trafficking_feature = trafficking_feature.rename(columns={'Actual incidents': 'Trafficking incidents'})"
      ],
      "execution_count": 10,
      "outputs": []
    },
    {
      "cell_type": "code",
      "metadata": {
        "colab": {
          "base_uri": "https://localhost:8080/",
          "height": 733
        },
        "id": "umiWMNExjai8",
        "outputId": "9166c7a1-83f2-45f4-8119-cf8c8121f55a"
      },
      "source": [
        "sexploitation"
      ],
      "execution_count": 11,
      "outputs": [
        {
          "output_type": "execute_result",
          "data": {
            "text/html": [
              "<div>\n",
              "<style scoped>\n",
              "    .dataframe tbody tr th:only-of-type {\n",
              "        vertical-align: middle;\n",
              "    }\n",
              "\n",
              "    .dataframe tbody tr th {\n",
              "        vertical-align: top;\n",
              "    }\n",
              "\n",
              "    .dataframe thead th {\n",
              "        text-align: right;\n",
              "    }\n",
              "</style>\n",
              "<table border=\"1\" class=\"dataframe\">\n",
              "  <thead>\n",
              "    <tr style=\"text-align: right;\">\n",
              "      <th></th>\n",
              "      <th>Region Identifier</th>\n",
              "      <th>Region</th>\n",
              "      <th>Actual incidents</th>\n",
              "      <th>Rate per 100,000 population 21</th>\n",
              "      <th>Percentage change in rate 22</th>\n",
              "      <th>Total cleared</th>\n",
              "      <th>Total, persons charged 24</th>\n",
              "      <th>Rate, total persons charged per 100,000 population aged 12 years and over 21 25</th>\n",
              "      <th>Total, adult charged</th>\n",
              "      <th>Rate, adult charged per 100,000 population aged 18 years and over 21 25</th>\n",
              "      <th>Total, youth charged 26 27</th>\n",
              "      <th>Rate, youth charged per 100,000 population aged 12 to 17 years 21 25</th>\n",
              "    </tr>\n",
              "  </thead>\n",
              "  <tbody>\n",
              "    <tr>\n",
              "      <th>0</th>\n",
              "      <td>35521.0</td>\n",
              "      <td>Kingston</td>\n",
              "      <td>1</td>\n",
              "      <td>0.61</td>\n",
              "      <td>100.00</td>\n",
              "      <td>1</td>\n",
              "      <td>1</td>\n",
              "      <td>0.69</td>\n",
              "      <td>1</td>\n",
              "      <td>0.74</td>\n",
              "      <td>0</td>\n",
              "      <td>0.00</td>\n",
              "    </tr>\n",
              "    <tr>\n",
              "      <th>1</th>\n",
              "      <td>35522.0</td>\n",
              "      <td>Belleville</td>\n",
              "      <td>0</td>\n",
              "      <td>0.00</td>\n",
              "      <td>57.56</td>\n",
              "      <td>0</td>\n",
              "      <td>0</td>\n",
              "      <td>0.00</td>\n",
              "      <td>0</td>\n",
              "      <td>0.00</td>\n",
              "      <td>0</td>\n",
              "      <td>0.00</td>\n",
              "    </tr>\n",
              "    <tr>\n",
              "      <th>2</th>\n",
              "      <td>35529.0</td>\n",
              "      <td>Peterborough</td>\n",
              "      <td>4</td>\n",
              "      <td>3.23</td>\n",
              "      <td>100.00</td>\n",
              "      <td>4</td>\n",
              "      <td>3</td>\n",
              "      <td>2.75</td>\n",
              "      <td>3</td>\n",
              "      <td>2.94</td>\n",
              "      <td>0</td>\n",
              "      <td>0.00</td>\n",
              "    </tr>\n",
              "    <tr>\n",
              "      <th>3</th>\n",
              "      <td>35535.0</td>\n",
              "      <td>Toronto</td>\n",
              "      <td>23</td>\n",
              "      <td>0.38</td>\n",
              "      <td>61.54</td>\n",
              "      <td>20</td>\n",
              "      <td>18</td>\n",
              "      <td>0.34</td>\n",
              "      <td>17</td>\n",
              "      <td>0.35</td>\n",
              "      <td>1</td>\n",
              "      <td>0.24</td>\n",
              "    </tr>\n",
              "    <tr>\n",
              "      <th>4</th>\n",
              "      <td>35537.0</td>\n",
              "      <td>Hamilton</td>\n",
              "      <td>6</td>\n",
              "      <td>0.80</td>\n",
              "      <td>97.83</td>\n",
              "      <td>4</td>\n",
              "      <td>4</td>\n",
              "      <td>0.62</td>\n",
              "      <td>4</td>\n",
              "      <td>0.67</td>\n",
              "      <td>0</td>\n",
              "      <td>0.00</td>\n",
              "    </tr>\n",
              "    <tr>\n",
              "      <th>5</th>\n",
              "      <td>35539.0</td>\n",
              "      <td>St.Catharines</td>\n",
              "      <td>4</td>\n",
              "      <td>0.87</td>\n",
              "      <td>-43.56</td>\n",
              "      <td>4</td>\n",
              "      <td>3</td>\n",
              "      <td>0.74</td>\n",
              "      <td>3</td>\n",
              "      <td>0.80</td>\n",
              "      <td>0</td>\n",
              "      <td>0.00</td>\n",
              "    </tr>\n",
              "    <tr>\n",
              "      <th>6</th>\n",
              "      <td>NaN</td>\n",
              "      <td>Niagara</td>\n",
              "      <td>4</td>\n",
              "      <td>0.87</td>\n",
              "      <td>-43.56</td>\n",
              "      <td>4</td>\n",
              "      <td>3</td>\n",
              "      <td>0.74</td>\n",
              "      <td>3</td>\n",
              "      <td>0.80</td>\n",
              "      <td>0</td>\n",
              "      <td>0.00</td>\n",
              "    </tr>\n",
              "    <tr>\n",
              "      <th>7</th>\n",
              "      <td>35541.0</td>\n",
              "      <td>Kitchener</td>\n",
              "      <td>4</td>\n",
              "      <td>0.72</td>\n",
              "      <td>291.81</td>\n",
              "      <td>4</td>\n",
              "      <td>2</td>\n",
              "      <td>0.42</td>\n",
              "      <td>2</td>\n",
              "      <td>0.46</td>\n",
              "      <td>0</td>\n",
              "      <td>0.00</td>\n",
              "    </tr>\n",
              "    <tr>\n",
              "      <th>8</th>\n",
              "      <td>NaN</td>\n",
              "      <td>Cambridge</td>\n",
              "      <td>4</td>\n",
              "      <td>0.72</td>\n",
              "      <td>291.81</td>\n",
              "      <td>4</td>\n",
              "      <td>2</td>\n",
              "      <td>0.42</td>\n",
              "      <td>2</td>\n",
              "      <td>0.46</td>\n",
              "      <td>0</td>\n",
              "      <td>0.00</td>\n",
              "    </tr>\n",
              "    <tr>\n",
              "      <th>9</th>\n",
              "      <td>NaN</td>\n",
              "      <td>Waterloo</td>\n",
              "      <td>4</td>\n",
              "      <td>0.72</td>\n",
              "      <td>291.81</td>\n",
              "      <td>4</td>\n",
              "      <td>2</td>\n",
              "      <td>0.42</td>\n",
              "      <td>2</td>\n",
              "      <td>0.46</td>\n",
              "      <td>0</td>\n",
              "      <td>0.00</td>\n",
              "    </tr>\n",
              "    <tr>\n",
              "      <th>10</th>\n",
              "      <td>35543.0</td>\n",
              "      <td>Brantford</td>\n",
              "      <td>0</td>\n",
              "      <td>0.00</td>\n",
              "      <td>0.00</td>\n",
              "      <td>0</td>\n",
              "      <td>0</td>\n",
              "      <td>0.00</td>\n",
              "      <td>0</td>\n",
              "      <td>0.00</td>\n",
              "      <td>0</td>\n",
              "      <td>0.00</td>\n",
              "    </tr>\n",
              "    <tr>\n",
              "      <th>11</th>\n",
              "      <td>35550.0</td>\n",
              "      <td>Guelph</td>\n",
              "      <td>0</td>\n",
              "      <td>0.00</td>\n",
              "      <td>0.00</td>\n",
              "      <td>0</td>\n",
              "      <td>0</td>\n",
              "      <td>0.00</td>\n",
              "      <td>0</td>\n",
              "      <td>0.00</td>\n",
              "      <td>0</td>\n",
              "      <td>0.00</td>\n",
              "    </tr>\n",
              "    <tr>\n",
              "      <th>12</th>\n",
              "      <td>35555.0</td>\n",
              "      <td>London</td>\n",
              "      <td>0</td>\n",
              "      <td>0.00</td>\n",
              "      <td>0.00</td>\n",
              "      <td>0</td>\n",
              "      <td>0</td>\n",
              "      <td>0.00</td>\n",
              "      <td>0</td>\n",
              "      <td>0.00</td>\n",
              "      <td>0</td>\n",
              "      <td>0.00</td>\n",
              "    </tr>\n",
              "    <tr>\n",
              "      <th>13</th>\n",
              "      <td>35559.0</td>\n",
              "      <td>Windsor</td>\n",
              "      <td>1</td>\n",
              "      <td>0.29</td>\n",
              "      <td>-67.06</td>\n",
              "      <td>1</td>\n",
              "      <td>1</td>\n",
              "      <td>0.34</td>\n",
              "      <td>1</td>\n",
              "      <td>0.37</td>\n",
              "      <td>0</td>\n",
              "      <td>0.00</td>\n",
              "    </tr>\n",
              "    <tr>\n",
              "      <th>14</th>\n",
              "      <td>35568.0</td>\n",
              "      <td>Barrie</td>\n",
              "      <td>1</td>\n",
              "      <td>0.45</td>\n",
              "      <td>-1.87</td>\n",
              "      <td>1</td>\n",
              "      <td>1</td>\n",
              "      <td>0.53</td>\n",
              "      <td>1</td>\n",
              "      <td>0.58</td>\n",
              "      <td>0</td>\n",
              "      <td>0.00</td>\n",
              "    </tr>\n",
              "    <tr>\n",
              "      <th>15</th>\n",
              "      <td>35580.0</td>\n",
              "      <td>Greater Sudbury</td>\n",
              "      <td>2</td>\n",
              "      <td>1.21</td>\n",
              "      <td>-0.22</td>\n",
              "      <td>2</td>\n",
              "      <td>2</td>\n",
              "      <td>1.37</td>\n",
              "      <td>2</td>\n",
              "      <td>1.48</td>\n",
              "      <td>0</td>\n",
              "      <td>0.00</td>\n",
              "    </tr>\n",
              "    <tr>\n",
              "      <th>16</th>\n",
              "      <td>35595.0</td>\n",
              "      <td>Thunder Bay</td>\n",
              "      <td>0</td>\n",
              "      <td>0.00</td>\n",
              "      <td>-100.00</td>\n",
              "      <td>0</td>\n",
              "      <td>0</td>\n",
              "      <td>0.00</td>\n",
              "      <td>0</td>\n",
              "      <td>0.00</td>\n",
              "      <td>0</td>\n",
              "      <td>0.00</td>\n",
              "    </tr>\n",
              "  </tbody>\n",
              "</table>\n",
              "</div>"
            ],
            "text/plain": [
              "    Region Identifier  ... Rate, youth charged per 100,000 population aged 12 to 17 years 21 25\n",
              "0             35521.0  ...                                               0.00                  \n",
              "1             35522.0  ...                                               0.00                  \n",
              "2             35529.0  ...                                               0.00                  \n",
              "3             35535.0  ...                                               0.24                  \n",
              "4             35537.0  ...                                               0.00                  \n",
              "5             35539.0  ...                                               0.00                  \n",
              "6                 NaN  ...                                               0.00                  \n",
              "7             35541.0  ...                                               0.00                  \n",
              "8                 NaN  ...                                               0.00                  \n",
              "9                 NaN  ...                                               0.00                  \n",
              "10            35543.0  ...                                               0.00                  \n",
              "11            35550.0  ...                                               0.00                  \n",
              "12            35555.0  ...                                               0.00                  \n",
              "13            35559.0  ...                                               0.00                  \n",
              "14            35568.0  ...                                               0.00                  \n",
              "15            35580.0  ...                                               0.00                  \n",
              "16            35595.0  ...                                               0.00                  \n",
              "\n",
              "[17 rows x 12 columns]"
            ]
          },
          "metadata": {
            "tags": []
          },
          "execution_count": 11
        }
      ]
    },
    {
      "cell_type": "code",
      "metadata": {
        "colab": {
          "base_uri": "https://localhost:8080/"
        },
        "id": "nTRpI9MMMXy-",
        "outputId": "260351a5-3fad-4cdb-e03c-70821e2042f9"
      },
      "source": [
        "sexploitation.dtypes"
      ],
      "execution_count": 12,
      "outputs": [
        {
          "output_type": "execute_result",
          "data": {
            "text/plain": [
              "Region Identifier                                                                  float64\n",
              "Region                                                                              object\n",
              "Actual incidents                                                                     int64\n",
              "Rate per 100,000 population 21                                                     float64\n",
              "Percentage change in rate 22                                                       float64\n",
              "Total cleared                                                                        int64\n",
              "Total, persons charged 24                                                            int64\n",
              "Rate, total persons charged per 100,000 population aged 12 years and over 21 25    float64\n",
              "Total, adult charged                                                                 int64\n",
              "Rate, adult charged per 100,000 population aged 18 years and over 21 25            float64\n",
              "Total, youth charged 26 27                                                           int64\n",
              "Rate, youth charged per 100,000 population aged 12 to 17 years 21 25               float64\n",
              "dtype: object"
            ]
          },
          "metadata": {
            "tags": []
          },
          "execution_count": 12
        }
      ]
    },
    {
      "cell_type": "code",
      "metadata": {
        "id": "jXPLQj1oZd-h"
      },
      "source": [
        "sexploitation_feature = sexploitation[['Region','Actual incidents']]\n",
        "sexploitation_feature = sexploitation_feature.rename(columns={'Actual incidents': 'Sexploitation incidents'})"
      ],
      "execution_count": 13,
      "outputs": []
    },
    {
      "cell_type": "code",
      "metadata": {
        "id": "LJ19XvJWl7D-"
      },
      "source": [
        ""
      ],
      "execution_count": 13,
      "outputs": []
    },
    {
      "cell_type": "markdown",
      "metadata": {
        "id": "kSRjS_UOmqSG"
      },
      "source": [
        "## Analyze relationships between features of different dataset and the cases of human trafficking in each region"
      ]
    },
    {
      "cell_type": "markdown",
      "metadata": {
        "id": "SeANVP53nBWB"
      },
      "source": [
        "### Income"
      ]
    },
    {
      "cell_type": "code",
      "metadata": {
        "id": "TQ5pRKQznah3"
      },
      "source": [
        "i = income"
      ],
      "execution_count": 14,
      "outputs": []
    },
    {
      "cell_type": "code",
      "metadata": {
        "id": "SLnWfKTjnmZ-"
      },
      "source": [
        "i = pd.merge(i, trafficking_feature, on=['Region'])\n",
        "i = pd.merge(i, sexploitation_feature, on=['Region'])"
      ],
      "execution_count": 15,
      "outputs": []
    },
    {
      "cell_type": "code",
      "metadata": {
        "colab": {
          "base_uri": "https://localhost:8080/",
          "height": 443
        },
        "id": "J0j8ggk2Lnar",
        "outputId": "e2b8b82d-a83a-432a-d27d-7d726236a48f"
      },
      "source": [
        "i.corr()"
      ],
      "execution_count": 16,
      "outputs": [
        {
          "output_type": "execute_result",
          "data": {
            "text/html": [
              "<div>\n",
              "<style scoped>\n",
              "    .dataframe tbody tr th:only-of-type {\n",
              "        vertical-align: middle;\n",
              "    }\n",
              "\n",
              "    .dataframe tbody tr th {\n",
              "        vertical-align: top;\n",
              "    }\n",
              "\n",
              "    .dataframe thead th {\n",
              "        text-align: right;\n",
              "    }\n",
              "</style>\n",
              "<table border=\"1\" class=\"dataframe\">\n",
              "  <thead>\n",
              "    <tr style=\"text-align: right;\">\n",
              "      <th></th>\n",
              "      <th>Total - Household low-income status</th>\n",
              "      <th>Low-income status - not applicable</th>\n",
              "      <th>Low-income status - applicable</th>\n",
              "      <th>In low income</th>\n",
              "      <th>Not in low income</th>\n",
              "      <th>Prevalence of low income</th>\n",
              "      <th>Trafficking incidents</th>\n",
              "      <th>Sexploitation incidents</th>\n",
              "    </tr>\n",
              "  </thead>\n",
              "  <tbody>\n",
              "    <tr>\n",
              "      <th>Total - Household low-income status</th>\n",
              "      <td>1.000000</td>\n",
              "      <td>-0.120324</td>\n",
              "      <td>0.999999</td>\n",
              "      <td>0.998692</td>\n",
              "      <td>0.999875</td>\n",
              "      <td>0.389308</td>\n",
              "      <td>0.972974</td>\n",
              "      <td>0.947420</td>\n",
              "    </tr>\n",
              "    <tr>\n",
              "      <th>Low-income status - not applicable</th>\n",
              "      <td>-0.120324</td>\n",
              "      <td>1.000000</td>\n",
              "      <td>-0.121673</td>\n",
              "      <td>-0.119229</td>\n",
              "      <td>-0.122358</td>\n",
              "      <td>0.020836</td>\n",
              "      <td>-0.164118</td>\n",
              "      <td>-0.140388</td>\n",
              "    </tr>\n",
              "    <tr>\n",
              "      <th>Low-income status - applicable</th>\n",
              "      <td>0.999999</td>\n",
              "      <td>-0.121673</td>\n",
              "      <td>1.000000</td>\n",
              "      <td>0.998690</td>\n",
              "      <td>0.999876</td>\n",
              "      <td>0.389216</td>\n",
              "      <td>0.973037</td>\n",
              "      <td>0.947455</td>\n",
              "    </tr>\n",
              "    <tr>\n",
              "      <th>In low income</th>\n",
              "      <td>0.998692</td>\n",
              "      <td>-0.119229</td>\n",
              "      <td>0.998690</td>\n",
              "      <td>1.000000</td>\n",
              "      <td>0.997762</td>\n",
              "      <td>0.415500</td>\n",
              "      <td>0.971180</td>\n",
              "      <td>0.941647</td>\n",
              "    </tr>\n",
              "    <tr>\n",
              "      <th>Not in low income</th>\n",
              "      <td>0.999875</td>\n",
              "      <td>-0.122358</td>\n",
              "      <td>0.999876</td>\n",
              "      <td>0.997762</td>\n",
              "      <td>1.000000</td>\n",
              "      <td>0.380934</td>\n",
              "      <td>0.973096</td>\n",
              "      <td>0.948740</td>\n",
              "    </tr>\n",
              "    <tr>\n",
              "      <th>Prevalence of low income</th>\n",
              "      <td>0.389308</td>\n",
              "      <td>0.020836</td>\n",
              "      <td>0.389216</td>\n",
              "      <td>0.415500</td>\n",
              "      <td>0.380934</td>\n",
              "      <td>1.000000</td>\n",
              "      <td>0.330552</td>\n",
              "      <td>0.284015</td>\n",
              "    </tr>\n",
              "    <tr>\n",
              "      <th>Trafficking incidents</th>\n",
              "      <td>0.972974</td>\n",
              "      <td>-0.164118</td>\n",
              "      <td>0.973037</td>\n",
              "      <td>0.971180</td>\n",
              "      <td>0.973096</td>\n",
              "      <td>0.330552</td>\n",
              "      <td>1.000000</td>\n",
              "      <td>0.947444</td>\n",
              "    </tr>\n",
              "    <tr>\n",
              "      <th>Sexploitation incidents</th>\n",
              "      <td>0.947420</td>\n",
              "      <td>-0.140388</td>\n",
              "      <td>0.947455</td>\n",
              "      <td>0.941647</td>\n",
              "      <td>0.948740</td>\n",
              "      <td>0.284015</td>\n",
              "      <td>0.947444</td>\n",
              "      <td>1.000000</td>\n",
              "    </tr>\n",
              "  </tbody>\n",
              "</table>\n",
              "</div>"
            ],
            "text/plain": [
              "                                      Total - Household low-income status  ...  Sexploitation incidents\n",
              "Total - Household low-income status                              1.000000  ...                 0.947420\n",
              " Low-income status - not applicable                             -0.120324  ...                -0.140388\n",
              "Low-income status - applicable                                   0.999999  ...                 0.947455\n",
              "In low income                                                    0.998692  ...                 0.941647\n",
              "Not in low income                                                0.999875  ...                 0.948740\n",
              "Prevalence of low income                                         0.389308  ...                 0.284015\n",
              "Trafficking incidents                                            0.972974  ...                 0.947444\n",
              "Sexploitation incidents                                          0.947420  ...                 1.000000\n",
              "\n",
              "[8 rows x 8 columns]"
            ]
          },
          "metadata": {
            "tags": []
          },
          "execution_count": 16
        }
      ]
    },
    {
      "cell_type": "code",
      "metadata": {
        "id": "BX-YQndsPAJy"
      },
      "source": [
        "import matplotlib.pyplot as plt\n",
        "import seaborn as sns\n",
        "%matplotlib inline "
      ],
      "execution_count": 17,
      "outputs": []
    },
    {
      "cell_type": "code",
      "metadata": {
        "colab": {
          "base_uri": "https://localhost:8080/",
          "height": 366
        },
        "id": "Xy2GjYgoOvMT",
        "outputId": "7e58ae86-4c0f-4205-aaa7-14f817c37318"
      },
      "source": [
        "from matplotlib.pyplot import figure\n",
        "figure(figsize=(20, 6), dpi=80)\n",
        "sns.regplot(x=\"Low-income status - applicable\", y=\"Trafficking incidents\", data=i)\n",
        "plt.ylim(0,)"
      ],
      "execution_count": 19,
      "outputs": [
        {
          "output_type": "execute_result",
          "data": {
            "text/plain": [
              "(0.0, 80.70720413414595)"
            ]
          },
          "metadata": {
            "tags": []
          },
          "execution_count": 19
        },
        {
          "output_type": "display_data",
          "data": {
            "image/png": "[encoded data removed]",
            "text/plain": [
              "<Figure size 1600x480 with 1 Axes>"
            ]
          },
          "metadata": {
            "tags": [],
            "needs_background": "light"
          }
        }
      ]
    },
    {
      "cell_type": "code",
      "metadata": {
        "colab": {
          "base_uri": "https://localhost:8080/",
          "height": 365
        },
        "id": "lOBV-58YQGrQ",
        "outputId": "f290b255-517e-45bf-a6b7-9065f6621306"
      },
      "source": [
        "from matplotlib.pyplot import figure\n",
        "figure(figsize=(20, 6), dpi=80)\n",
        "sns.regplot(x=\"Low-income status - applicable\", y=\"Sexploitation incidents\", data=i)\n",
        "plt.ylim(0,)"
      ],
      "execution_count": 20,
      "outputs": [
        {
          "output_type": "execute_result",
          "data": {
            "text/plain": [
              "(0.0, 31.793852179077653)"
            ]
          },
          "metadata": {
            "tags": []
          },
          "execution_count": 20
        },
        {
          "output_type": "display_data",
          "data": {
            "image/png": "[encoded data removed]",
            "text/plain": [
              "<Figure size 1600x480 with 1 Axes>"
            ]
          },
          "metadata": {
            "tags": [],
            "needs_background": "light"
          }
        }
      ]
    },
    {
      "cell_type": "code",
      "metadata": {
        "id": "KfIqm7h5XMDE"
      },
      "source": [
        "i_feature = i[['Region','Low-income status - applicable','Sexploitation incidents','Trafficking incidents']]"
      ],
      "execution_count": 21,
      "outputs": []
    },
    {
      "cell_type": "markdown",
      "metadata": {
        "id": "2fDweYjAnB-1"
      },
      "source": [
        "### Education and employment"
      ]
    },
    {
      "cell_type": "code",
      "metadata": {
        "id": "0n0HpHNSnbKq"
      },
      "source": [
        "e = education\n",
        "e = pd.merge(e, trafficking_feature, on=['Region'])\n",
        "e = pd.merge(e, sexploitation_feature, on=['Region'])"
      ],
      "execution_count": 22,
      "outputs": []
    },
    {
      "cell_type": "code",
      "metadata": {
        "colab": {
          "base_uri": "https://localhost:8080/",
          "height": 639
        },
        "id": "ySfNPi2CQUpm",
        "outputId": "05cd1934-4588-43c8-f82b-fedc305200c5"
      },
      "source": [
        "e.corr()"
      ],
      "execution_count": 23,
      "outputs": [
        {
          "output_type": "execute_result",
          "data": {
            "text/html": [
              "<div>\n",
              "<style scoped>\n",
              "    .dataframe tbody tr th:only-of-type {\n",
              "        vertical-align: middle;\n",
              "    }\n",
              "\n",
              "    .dataframe tbody tr th {\n",
              "        vertical-align: top;\n",
              "    }\n",
              "\n",
              "    .dataframe thead th {\n",
              "        text-align: right;\n",
              "    }\n",
              "</style>\n",
              "<table border=\"1\" class=\"dataframe\">\n",
              "  <thead>\n",
              "    <tr style=\"text-align: right;\">\n",
              "      <th></th>\n",
              "      <th>Total - Labour force status [2]</th>\n",
              "      <th>In the labour force</th>\n",
              "      <th>Employed</th>\n",
              "      <th>Unemployed</th>\n",
              "      <th>Not in the labour force</th>\n",
              "      <th>Participation rate</th>\n",
              "      <th>Employment rate</th>\n",
              "      <th>Unemployment rate</th>\n",
              "      <th>% no postsecondary study</th>\n",
              "      <th>Trafficking incidents</th>\n",
              "      <th>Sexploitation incidents</th>\n",
              "    </tr>\n",
              "  </thead>\n",
              "  <tbody>\n",
              "    <tr>\n",
              "      <th>Total - Labour force status [2]</th>\n",
              "      <td>1.000000</td>\n",
              "      <td>0.999836</td>\n",
              "      <td>0.999819</td>\n",
              "      <td>0.999314</td>\n",
              "      <td>0.999453</td>\n",
              "      <td>0.054505</td>\n",
              "      <td>0.013801</td>\n",
              "      <td>0.225313</td>\n",
              "      <td>-0.368602</td>\n",
              "      <td>0.974172</td>\n",
              "      <td>0.943740</td>\n",
              "    </tr>\n",
              "    <tr>\n",
              "      <th>In the labour force</th>\n",
              "      <td>0.999836</td>\n",
              "      <td>1.000000</td>\n",
              "      <td>0.999995</td>\n",
              "      <td>0.999343</td>\n",
              "      <td>0.998691</td>\n",
              "      <td>0.070215</td>\n",
              "      <td>0.029478</td>\n",
              "      <td>0.213547</td>\n",
              "      <td>-0.371487</td>\n",
              "      <td>0.976056</td>\n",
              "      <td>0.944637</td>\n",
              "    </tr>\n",
              "    <tr>\n",
              "      <th>Employed</th>\n",
              "      <td>0.999819</td>\n",
              "      <td>0.999995</td>\n",
              "      <td>1.000000</td>\n",
              "      <td>0.999219</td>\n",
              "      <td>0.998651</td>\n",
              "      <td>0.071772</td>\n",
              "      <td>0.031164</td>\n",
              "      <td>0.211238</td>\n",
              "      <td>-0.371238</td>\n",
              "      <td>0.976280</td>\n",
              "      <td>0.944855</td>\n",
              "    </tr>\n",
              "    <tr>\n",
              "      <th>Unemployed</th>\n",
              "      <td>0.999314</td>\n",
              "      <td>0.999343</td>\n",
              "      <td>0.999219</td>\n",
              "      <td>1.000000</td>\n",
              "      <td>0.998417</td>\n",
              "      <td>0.052887</td>\n",
              "      <td>0.010745</td>\n",
              "      <td>0.239029</td>\n",
              "      <td>-0.374005</td>\n",
              "      <td>0.972879</td>\n",
              "      <td>0.941567</td>\n",
              "    </tr>\n",
              "    <tr>\n",
              "      <th>Not in the labour force</th>\n",
              "      <td>0.999453</td>\n",
              "      <td>0.998691</td>\n",
              "      <td>0.998651</td>\n",
              "      <td>0.998417</td>\n",
              "      <td>1.000000</td>\n",
              "      <td>0.025733</td>\n",
              "      <td>-0.014876</td>\n",
              "      <td>0.246641</td>\n",
              "      <td>-0.363012</td>\n",
              "      <td>0.969898</td>\n",
              "      <td>0.941298</td>\n",
              "    </tr>\n",
              "    <tr>\n",
              "      <th>Participation rate</th>\n",
              "      <td>0.054505</td>\n",
              "      <td>0.070215</td>\n",
              "      <td>0.071772</td>\n",
              "      <td>0.052887</td>\n",
              "      <td>0.025733</td>\n",
              "      <td>1.000000</td>\n",
              "      <td>0.996061</td>\n",
              "      <td>-0.717866</td>\n",
              "      <td>-0.160632</td>\n",
              "      <td>0.145059</td>\n",
              "      <td>0.095537</td>\n",
              "    </tr>\n",
              "    <tr>\n",
              "      <th>Employment rate</th>\n",
              "      <td>0.013801</td>\n",
              "      <td>0.029478</td>\n",
              "      <td>0.031164</td>\n",
              "      <td>0.010745</td>\n",
              "      <td>-0.014876</td>\n",
              "      <td>0.996061</td>\n",
              "      <td>1.000000</td>\n",
              "      <td>-0.775461</td>\n",
              "      <td>-0.130862</td>\n",
              "      <td>0.107250</td>\n",
              "      <td>0.060573</td>\n",
              "    </tr>\n",
              "    <tr>\n",
              "      <th>Unemployment rate</th>\n",
              "      <td>0.225313</td>\n",
              "      <td>0.213547</td>\n",
              "      <td>0.211238</td>\n",
              "      <td>0.239029</td>\n",
              "      <td>0.246641</td>\n",
              "      <td>-0.717866</td>\n",
              "      <td>-0.775461</td>\n",
              "      <td>1.000000</td>\n",
              "      <td>-0.110174</td>\n",
              "      <td>0.126102</td>\n",
              "      <td>0.145196</td>\n",
              "    </tr>\n",
              "    <tr>\n",
              "      <th>% no postsecondary study</th>\n",
              "      <td>-0.368602</td>\n",
              "      <td>-0.371487</td>\n",
              "      <td>-0.371238</td>\n",
              "      <td>-0.374005</td>\n",
              "      <td>-0.363012</td>\n",
              "      <td>-0.160632</td>\n",
              "      <td>-0.130862</td>\n",
              "      <td>-0.110174</td>\n",
              "      <td>1.000000</td>\n",
              "      <td>-0.393025</td>\n",
              "      <td>-0.358683</td>\n",
              "    </tr>\n",
              "    <tr>\n",
              "      <th>Trafficking incidents</th>\n",
              "      <td>0.974172</td>\n",
              "      <td>0.976056</td>\n",
              "      <td>0.976280</td>\n",
              "      <td>0.972879</td>\n",
              "      <td>0.969898</td>\n",
              "      <td>0.145059</td>\n",
              "      <td>0.107250</td>\n",
              "      <td>0.126102</td>\n",
              "      <td>-0.393025</td>\n",
              "      <td>1.000000</td>\n",
              "      <td>0.939094</td>\n",
              "    </tr>\n",
              "    <tr>\n",
              "      <th>Sexploitation incidents</th>\n",
              "      <td>0.943740</td>\n",
              "      <td>0.944637</td>\n",
              "      <td>0.944855</td>\n",
              "      <td>0.941567</td>\n",
              "      <td>0.941298</td>\n",
              "      <td>0.095537</td>\n",
              "      <td>0.060573</td>\n",
              "      <td>0.145196</td>\n",
              "      <td>-0.358683</td>\n",
              "      <td>0.939094</td>\n",
              "      <td>1.000000</td>\n",
              "    </tr>\n",
              "  </tbody>\n",
              "</table>\n",
              "</div>"
            ],
            "text/plain": [
              "                                 Total - Labour force status [2]  ...  Sexploitation incidents\n",
              "Total - Labour force status [2]                         1.000000  ...                 0.943740\n",
              "In the labour force                                     0.999836  ...                 0.944637\n",
              "Employed                                                0.999819  ...                 0.944855\n",
              "Unemployed                                              0.999314  ...                 0.941567\n",
              "Not in the labour force                                 0.999453  ...                 0.941298\n",
              "Participation rate                                      0.054505  ...                 0.095537\n",
              "Employment rate                                         0.013801  ...                 0.060573\n",
              "Unemployment rate                                       0.225313  ...                 0.145196\n",
              "% no postsecondary study                               -0.368602  ...                -0.358683\n",
              "Trafficking incidents                                   0.974172  ...                 0.939094\n",
              "Sexploitation incidents                                 0.943740  ...                 1.000000\n",
              "\n",
              "[11 rows x 11 columns]"
            ]
          },
          "metadata": {
            "tags": []
          },
          "execution_count": 23
        }
      ]
    },
    {
      "cell_type": "code",
      "metadata": {
        "colab": {
          "base_uri": "https://localhost:8080/",
          "height": 365
        },
        "id": "afw_CZtfQUtf",
        "outputId": "5fb0a112-e272-439b-93ed-5f34499adc24"
      },
      "source": [
        "from matplotlib.pyplot import figure\n",
        "figure(figsize=(20, 6), dpi=80)\n",
        "sns.regplot(x=\"Unemployed\", y=\"Trafficking incidents\", data=e)\n",
        "plt.ylim(0,)"
      ],
      "execution_count": 24,
      "outputs": [
        {
          "output_type": "execute_result",
          "data": {
            "text/plain": [
              "(0.0, 95.38808103888583)"
            ]
          },
          "metadata": {
            "tags": []
          },
          "execution_count": 24
        },
        {
          "output_type": "display_data",
          "data": {
            "image/png": "[encoded data removed]",
            "text/plain": [
              "<Figure size 1600x480 with 1 Axes>"
            ]
          },
          "metadata": {
            "tags": [],
            "needs_background": "light"
          }
        }
      ]
    },
    {
      "cell_type": "code",
      "metadata": {
        "colab": {
          "base_uri": "https://localhost:8080/",
          "height": 365
        },
        "id": "C3ugpusMQUxL",
        "outputId": "3aff7868-56f8-4861-dd09-b5bcd7ffd5ae"
      },
      "source": [
        "from matplotlib.pyplot import figure\n",
        "figure(figsize=(20, 6), dpi=80)\n",
        "sns.regplot(x=\"Unemployed\", y=\"Sexploitation incidents\", data=e)\n",
        "plt.ylim(0,)"
      ],
      "execution_count": 25,
      "outputs": [
        {
          "output_type": "execute_result",
          "data": {
            "text/plain": [
              "(0.0, 39.61140807303434)"
            ]
          },
          "metadata": {
            "tags": []
          },
          "execution_count": 25
        },
        {
          "output_type": "display_data",
          "data": {
            "image/png": "[encoded data removed]",
            "text/plain": [
              "<Figure size 1600x480 with 1 Axes>"
            ]
          },
          "metadata": {
            "tags": [],
            "needs_background": "light"
          }
        }
      ]
    },
    {
      "cell_type": "code",
      "metadata": {
        "id": "Hev6GEpGXT-8"
      },
      "source": [
        "e_feature = e[['Region','Unemployed']]"
      ],
      "execution_count": 26,
      "outputs": []
    },
    {
      "cell_type": "markdown",
      "metadata": {
        "id": "eL13ZsXQnCMW"
      },
      "source": [
        "### Aboriginal"
      ]
    },
    {
      "cell_type": "code",
      "metadata": {
        "colab": {
          "base_uri": "https://localhost:8080/",
          "height": 494
        },
        "id": "IjzShsP8l7Hu",
        "outputId": "28363e9a-9a9b-4655-e406-8e6687f3159c"
      },
      "source": [
        "a = aboriginal\n",
        "a = pd.merge(a, trafficking_feature, on=['Region'])\n",
        "a = pd.merge(a, sexploitation_feature, on=['Region'])\n",
        "a.corr()"
      ],
      "execution_count": 28,
      "outputs": [
        {
          "output_type": "execute_result",
          "data": {
            "text/html": [
              "<div>\n",
              "<style scoped>\n",
              "    .dataframe tbody tr th:only-of-type {\n",
              "        vertical-align: middle;\n",
              "    }\n",
              "\n",
              "    .dataframe tbody tr th {\n",
              "        vertical-align: top;\n",
              "    }\n",
              "\n",
              "    .dataframe thead th {\n",
              "        text-align: right;\n",
              "    }\n",
              "</style>\n",
              "<table border=\"1\" class=\"dataframe\">\n",
              "  <thead>\n",
              "    <tr style=\"text-align: right;\">\n",
              "      <th></th>\n",
              "      <th>Total - Individual low-income status [3]</th>\n",
              "      <th>Low-income status - not applicable [4]</th>\n",
              "      <th>Low-income status - applicable</th>\n",
              "      <th>In low income</th>\n",
              "      <th>Not in low income</th>\n",
              "      <th>Prevalence of low income (%) [5]</th>\n",
              "      <th>Trafficking incidents</th>\n",
              "      <th>Sexploitation incidents</th>\n",
              "    </tr>\n",
              "  </thead>\n",
              "  <tbody>\n",
              "    <tr>\n",
              "      <th>Total - Individual low-income status [3]</th>\n",
              "      <td>1.000000</td>\n",
              "      <td>0.130861</td>\n",
              "      <td>0.999498</td>\n",
              "      <td>0.959493</td>\n",
              "      <td>0.994470</td>\n",
              "      <td>0.005629</td>\n",
              "      <td>0.923072</td>\n",
              "      <td>0.903080</td>\n",
              "    </tr>\n",
              "    <tr>\n",
              "      <th>Low-income status - not applicable [4]</th>\n",
              "      <td>0.130861</td>\n",
              "      <td>1.000000</td>\n",
              "      <td>0.099401</td>\n",
              "      <td>0.224197</td>\n",
              "      <td>0.060863</td>\n",
              "      <td>0.545806</td>\n",
              "      <td>-0.015138</td>\n",
              "      <td>0.049989</td>\n",
              "    </tr>\n",
              "    <tr>\n",
              "      <th>Low-income status - applicable</th>\n",
              "      <td>0.999498</td>\n",
              "      <td>0.099401</td>\n",
              "      <td>1.000000</td>\n",
              "      <td>0.955854</td>\n",
              "      <td>0.996187</td>\n",
              "      <td>-0.011820</td>\n",
              "      <td>0.926973</td>\n",
              "      <td>0.904816</td>\n",
              "    </tr>\n",
              "    <tr>\n",
              "      <th>In low income</th>\n",
              "      <td>0.959493</td>\n",
              "      <td>0.224197</td>\n",
              "      <td>0.955854</td>\n",
              "      <td>1.000000</td>\n",
              "      <td>0.926572</td>\n",
              "      <td>0.257382</td>\n",
              "      <td>0.842352</td>\n",
              "      <td>0.790242</td>\n",
              "    </tr>\n",
              "    <tr>\n",
              "      <th>Not in low income</th>\n",
              "      <td>0.994470</td>\n",
              "      <td>0.060863</td>\n",
              "      <td>0.996187</td>\n",
              "      <td>0.926572</td>\n",
              "      <td>1.000000</td>\n",
              "      <td>-0.091595</td>\n",
              "      <td>0.936326</td>\n",
              "      <td>0.923482</td>\n",
              "    </tr>\n",
              "    <tr>\n",
              "      <th>Prevalence of low income (%) [5]</th>\n",
              "      <td>0.005629</td>\n",
              "      <td>0.545806</td>\n",
              "      <td>-0.011820</td>\n",
              "      <td>0.257382</td>\n",
              "      <td>-0.091595</td>\n",
              "      <td>1.000000</td>\n",
              "      <td>-0.118242</td>\n",
              "      <td>-0.182433</td>\n",
              "    </tr>\n",
              "    <tr>\n",
              "      <th>Trafficking incidents</th>\n",
              "      <td>0.923072</td>\n",
              "      <td>-0.015138</td>\n",
              "      <td>0.926973</td>\n",
              "      <td>0.842352</td>\n",
              "      <td>0.936326</td>\n",
              "      <td>-0.118242</td>\n",
              "      <td>1.000000</td>\n",
              "      <td>0.939094</td>\n",
              "    </tr>\n",
              "    <tr>\n",
              "      <th>Sexploitation incidents</th>\n",
              "      <td>0.903080</td>\n",
              "      <td>0.049989</td>\n",
              "      <td>0.904816</td>\n",
              "      <td>0.790242</td>\n",
              "      <td>0.923482</td>\n",
              "      <td>-0.182433</td>\n",
              "      <td>0.939094</td>\n",
              "      <td>1.000000</td>\n",
              "    </tr>\n",
              "  </tbody>\n",
              "</table>\n",
              "</div>"
            ],
            "text/plain": [
              "                                          Total - Individual low-income status [3]  ...  Sexploitation incidents\n",
              "Total - Individual low-income status [3]                                  1.000000  ...                 0.903080\n",
              "Low-income status - not applicable [4]                                    0.130861  ...                 0.049989\n",
              "Low-income status - applicable                                            0.999498  ...                 0.904816\n",
              "In low income                                                             0.959493  ...                 0.790242\n",
              "Not in low income                                                         0.994470  ...                 0.923482\n",
              "Prevalence of low income (%) [5]                                          0.005629  ...                -0.182433\n",
              "Trafficking incidents                                                     0.923072  ...                 0.939094\n",
              "Sexploitation incidents                                                   0.903080  ...                 1.000000\n",
              "\n",
              "[8 rows x 8 columns]"
            ]
          },
          "metadata": {
            "tags": []
          },
          "execution_count": 28
        }
      ]
    },
    {
      "cell_type": "code",
      "metadata": {
        "colab": {
          "base_uri": "https://localhost:8080/",
          "height": 365
        },
        "id": "U3sSTmBgS6gT",
        "outputId": "7253146f-3c4d-439f-8587-037a44dd8148"
      },
      "source": [
        "from matplotlib.pyplot import figure\n",
        "figure(figsize=(20, 6), dpi=80)\n",
        "sns.regplot(x=\"Low-income status - applicable\", y=\"Sexploitation incidents\", data=a)\n",
        "plt.ylim(0,)"
      ],
      "execution_count": 29,
      "outputs": [
        {
          "output_type": "execute_result",
          "data": {
            "text/plain": [
              "(0.0, 24.262693523926924)"
            ]
          },
          "metadata": {
            "tags": []
          },
          "execution_count": 29
        },
        {
          "output_type": "display_data",
          "data": {
            "image/png": "[encoded data removed]",
            "text/plain": [
              "<Figure size 1600x480 with 1 Axes>"
            ]
          },
          "metadata": {
            "tags": [],
            "needs_background": "light"
          }
        }
      ]
    },
    {
      "cell_type": "code",
      "metadata": {
        "colab": {
          "base_uri": "https://localhost:8080/",
          "height": 365
        },
        "id": "e9M_yeGtTaF_",
        "outputId": "3fcbe5a5-892e-476a-d72a-a94012429fb3"
      },
      "source": [
        "from matplotlib.pyplot import figure\n",
        "figure(figsize=(20, 6), dpi=80)\n",
        "sns.regplot(x=\"Low-income status - applicable\", y=\"Trafficking incidents\", data=a)\n",
        "plt.ylim(0,)"
      ],
      "execution_count": 30,
      "outputs": [
        {
          "output_type": "execute_result",
          "data": {
            "text/plain": [
              "(0.0, 54.976811977246825)"
            ]
          },
          "metadata": {
            "tags": []
          },
          "execution_count": 30
        },
        {
          "output_type": "display_data",
          "data": {
            "image/png": "[encoded data removed]",
            "text/plain": [
              "<Figure size 1600x480 with 1 Axes>"
            ]
          },
          "metadata": {
            "tags": [],
            "needs_background": "light"
          }
        }
      ]
    },
    {
      "cell_type": "code",
      "metadata": {
        "id": "CjX5rRuPTcfm"
      },
      "source": [
        "a_feature = a[['Region','Low-income status - applicable']]"
      ],
      "execution_count": 31,
      "outputs": []
    },
    {
      "cell_type": "code",
      "metadata": {
        "id": "CZLFH_YqXonw"
      },
      "source": [
        "a_feature = a_feature.rename(columns={'Low-income status - applicable': 'Aboriginal Low-income status - applicable'})"
      ],
      "execution_count": 32,
      "outputs": []
    },
    {
      "cell_type": "markdown",
      "metadata": {
        "id": "2WUk1p20UcXI"
      },
      "source": [
        "### Combing all features with the ground truth"
      ]
    },
    {
      "cell_type": "code",
      "metadata": {
        "colab": {
          "base_uri": "https://localhost:8080/",
          "height": 566
        },
        "id": "wZoZvA3XUmYd",
        "outputId": "5ea59a1c-862b-416e-fd01-6b2419f95b7f"
      },
      "source": [
        "df = pd.merge(i_feature, e_feature, on=['Region'])\n",
        "df = pd.merge(df, a_feature, on=['Region'])\n",
        "cols = df.columns.tolist()\n",
        "df = df[cols[:2] + cols[-2:] + cols[2:-2]]\n",
        "df"
      ],
      "execution_count": 38,
      "outputs": [
        {
          "output_type": "execute_result",
          "data": {
            "text/html": [
              "<div>\n",
              "<style scoped>\n",
              "    .dataframe tbody tr th:only-of-type {\n",
              "        vertical-align: middle;\n",
              "    }\n",
              "\n",
              "    .dataframe tbody tr th {\n",
              "        vertical-align: top;\n",
              "    }\n",
              "\n",
              "    .dataframe thead th {\n",
              "        text-align: right;\n",
              "    }\n",
              "</style>\n",
              "<table border=\"1\" class=\"dataframe\">\n",
              "  <thead>\n",
              "    <tr style=\"text-align: right;\">\n",
              "      <th></th>\n",
              "      <th>Region</th>\n",
              "      <th>Low-income status - applicable</th>\n",
              "      <th>Unemployed</th>\n",
              "      <th>Aboriginal Low-income status - applicable</th>\n",
              "      <th>Sexploitation incidents</th>\n",
              "      <th>Trafficking incidents</th>\n",
              "    </tr>\n",
              "  </thead>\n",
              "  <tbody>\n",
              "    <tr>\n",
              "      <th>0</th>\n",
              "      <td>Kingston</td>\n",
              "      <td>53515</td>\n",
              "      <td>5060</td>\n",
              "      <td>5585</td>\n",
              "      <td>1</td>\n",
              "      <td>0</td>\n",
              "    </tr>\n",
              "    <tr>\n",
              "      <th>1</th>\n",
              "      <td>Belleville</td>\n",
              "      <td>21730</td>\n",
              "      <td>1735</td>\n",
              "      <td>5245</td>\n",
              "      <td>0</td>\n",
              "      <td>1</td>\n",
              "    </tr>\n",
              "    <tr>\n",
              "      <th>2</th>\n",
              "      <td>Peterborough</td>\n",
              "      <td>57135</td>\n",
              "      <td>5440</td>\n",
              "      <td>4445</td>\n",
              "      <td>4</td>\n",
              "      <td>2</td>\n",
              "    </tr>\n",
              "    <tr>\n",
              "      <th>3</th>\n",
              "      <td>Toronto</td>\n",
              "      <td>1112925</td>\n",
              "      <td>122305</td>\n",
              "      <td>46110</td>\n",
              "      <td>23</td>\n",
              "      <td>52</td>\n",
              "    </tr>\n",
              "    <tr>\n",
              "      <th>4</th>\n",
              "      <td>Hamilton</td>\n",
              "      <td>211595</td>\n",
              "      <td>19575</td>\n",
              "      <td>14445</td>\n",
              "      <td>6</td>\n",
              "      <td>14</td>\n",
              "    </tr>\n",
              "    <tr>\n",
              "      <th>5</th>\n",
              "      <td>Guelph</td>\n",
              "      <td>52090</td>\n",
              "      <td>4610</td>\n",
              "      <td>2280</td>\n",
              "      <td>0</td>\n",
              "      <td>1</td>\n",
              "    </tr>\n",
              "    <tr>\n",
              "      <th>6</th>\n",
              "      <td>Niagara</td>\n",
              "      <td>183830</td>\n",
              "      <td>16705</td>\n",
              "      <td>11645</td>\n",
              "      <td>4</td>\n",
              "      <td>1</td>\n",
              "    </tr>\n",
              "    <tr>\n",
              "      <th>7</th>\n",
              "      <td>Brantford</td>\n",
              "      <td>39215</td>\n",
              "      <td>3430</td>\n",
              "      <td>6335</td>\n",
              "      <td>0</td>\n",
              "      <td>1</td>\n",
              "    </tr>\n",
              "    <tr>\n",
              "      <th>8</th>\n",
              "      <td>Cambridge</td>\n",
              "      <td>48240</td>\n",
              "      <td>4575</td>\n",
              "      <td>8885</td>\n",
              "      <td>4</td>\n",
              "      <td>5</td>\n",
              "    </tr>\n",
              "    <tr>\n",
              "      <th>9</th>\n",
              "      <td>Kitchener</td>\n",
              "      <td>92220</td>\n",
              "      <td>8890</td>\n",
              "      <td>8885</td>\n",
              "      <td>4</td>\n",
              "      <td>5</td>\n",
              "    </tr>\n",
              "    <tr>\n",
              "      <th>10</th>\n",
              "      <td>Waterloo</td>\n",
              "      <td>40380</td>\n",
              "      <td>3950</td>\n",
              "      <td>8885</td>\n",
              "      <td>4</td>\n",
              "      <td>5</td>\n",
              "    </tr>\n",
              "    <tr>\n",
              "      <th>11</th>\n",
              "      <td>Windsor</td>\n",
              "      <td>91630</td>\n",
              "      <td>9345</td>\n",
              "      <td>8485</td>\n",
              "      <td>1</td>\n",
              "      <td>0</td>\n",
              "    </tr>\n",
              "    <tr>\n",
              "      <th>12</th>\n",
              "      <td>London</td>\n",
              "      <td>163140</td>\n",
              "      <td>15815</td>\n",
              "      <td>12075</td>\n",
              "      <td>0</td>\n",
              "      <td>10</td>\n",
              "    </tr>\n",
              "    <tr>\n",
              "      <th>13</th>\n",
              "      <td>Barrie</td>\n",
              "      <td>52475</td>\n",
              "      <td>5870</td>\n",
              "      <td>6905</td>\n",
              "      <td>1</td>\n",
              "      <td>2</td>\n",
              "    </tr>\n",
              "    <tr>\n",
              "      <th>14</th>\n",
              "      <td>Greater Sudbury</td>\n",
              "      <td>69155</td>\n",
              "      <td>6990</td>\n",
              "      <td>15235</td>\n",
              "      <td>2</td>\n",
              "      <td>2</td>\n",
              "    </tr>\n",
              "    <tr>\n",
              "      <th>15</th>\n",
              "      <td>Thunder Bay</td>\n",
              "      <td>61640</td>\n",
              "      <td>6025</td>\n",
              "      <td>14275</td>\n",
              "      <td>0</td>\n",
              "      <td>0</td>\n",
              "    </tr>\n",
              "  </tbody>\n",
              "</table>\n",
              "</div>"
            ],
            "text/plain": [
              "             Region  ...  Trafficking incidents\n",
              "0          Kingston  ...                      0\n",
              "1        Belleville  ...                      1\n",
              "2      Peterborough  ...                      2\n",
              "3           Toronto  ...                     52\n",
              "4          Hamilton  ...                     14\n",
              "5            Guelph  ...                      1\n",
              "6           Niagara  ...                      1\n",
              "7         Brantford  ...                      1\n",
              "8         Cambridge  ...                      5\n",
              "9         Kitchener  ...                      5\n",
              "10         Waterloo  ...                      5\n",
              "11          Windsor  ...                      0\n",
              "12           London  ...                     10\n",
              "13           Barrie  ...                      2\n",
              "14  Greater Sudbury  ...                      2\n",
              "15      Thunder Bay  ...                      0\n",
              "\n",
              "[16 rows x 6 columns]"
            ]
          },
          "metadata": {
            "tags": []
          },
          "execution_count": 38
        }
      ]
    },
    {
      "cell_type": "code",
      "metadata": {
        "colab": {
          "base_uri": "https://localhost:8080/",
          "height": 233
        },
        "id": "VESj-5bDY0kd",
        "outputId": "ac65851b-c8aa-4e36-c05f-cb34ba4cbcb7"
      },
      "source": [
        "df.corr()"
      ],
      "execution_count": 39,
      "outputs": [
        {
          "output_type": "execute_result",
          "data": {
            "text/html": [
              "<div>\n",
              "<style scoped>\n",
              "    .dataframe tbody tr th:only-of-type {\n",
              "        vertical-align: middle;\n",
              "    }\n",
              "\n",
              "    .dataframe tbody tr th {\n",
              "        vertical-align: top;\n",
              "    }\n",
              "\n",
              "    .dataframe thead th {\n",
              "        text-align: right;\n",
              "    }\n",
              "</style>\n",
              "<table border=\"1\" class=\"dataframe\">\n",
              "  <thead>\n",
              "    <tr style=\"text-align: right;\">\n",
              "      <th></th>\n",
              "      <th>Low-income status - applicable</th>\n",
              "      <th>Unemployed</th>\n",
              "      <th>Aboriginal Low-income status - applicable</th>\n",
              "      <th>Sexploitation incidents</th>\n",
              "      <th>Trafficking incidents</th>\n",
              "    </tr>\n",
              "  </thead>\n",
              "  <tbody>\n",
              "    <tr>\n",
              "      <th>Low-income status - applicable</th>\n",
              "      <td>1.000000</td>\n",
              "      <td>0.999314</td>\n",
              "      <td>0.951851</td>\n",
              "      <td>0.947455</td>\n",
              "      <td>0.973037</td>\n",
              "    </tr>\n",
              "    <tr>\n",
              "      <th>Unemployed</th>\n",
              "      <td>0.999314</td>\n",
              "      <td>1.000000</td>\n",
              "      <td>0.951834</td>\n",
              "      <td>0.947454</td>\n",
              "      <td>0.972868</td>\n",
              "    </tr>\n",
              "    <tr>\n",
              "      <th>Aboriginal Low-income status - applicable</th>\n",
              "      <td>0.951851</td>\n",
              "      <td>0.951834</td>\n",
              "      <td>1.000000</td>\n",
              "      <td>0.904930</td>\n",
              "      <td>0.933097</td>\n",
              "    </tr>\n",
              "    <tr>\n",
              "      <th>Sexploitation incidents</th>\n",
              "      <td>0.947455</td>\n",
              "      <td>0.947454</td>\n",
              "      <td>0.904930</td>\n",
              "      <td>1.000000</td>\n",
              "      <td>0.947444</td>\n",
              "    </tr>\n",
              "    <tr>\n",
              "      <th>Trafficking incidents</th>\n",
              "      <td>0.973037</td>\n",
              "      <td>0.972868</td>\n",
              "      <td>0.933097</td>\n",
              "      <td>0.947444</td>\n",
              "      <td>1.000000</td>\n",
              "    </tr>\n",
              "  </tbody>\n",
              "</table>\n",
              "</div>"
            ],
            "text/plain": [
              "                                           Low-income status - applicable  ...  Trafficking incidents\n",
              "Low-income status - applicable                                   1.000000  ...               0.973037\n",
              "Unemployed                                                       0.999314  ...               0.972868\n",
              "Aboriginal Low-income status - applicable                        0.951851  ...               0.933097\n",
              "Sexploitation incidents                                          0.947455  ...               0.947444\n",
              "Trafficking incidents                                            0.973037  ...               1.000000\n",
              "\n",
              "[5 rows x 5 columns]"
            ]
          },
          "metadata": {
            "tags": []
          },
          "execution_count": 39
        }
      ]
    },
    {
      "cell_type": "code",
      "metadata": {
        "id": "8e-Z_a2PY4Aa"
      },
      "source": [
        ""
      ],
      "execution_count": null,
      "outputs": []
    },
    {
      "cell_type": "code",
      "metadata": {
        "id": "4SznJddfdEbY"
      },
      "source": [
        ""
      ],
      "execution_count": null,
      "outputs": []
    },
    {
      "cell_type": "markdown",
      "metadata": {
        "id": "LitV_7QkdFOR"
      },
      "source": [
        "## Modelling"
      ]
    },
    {
      "cell_type": "code",
      "metadata": {
        "id": "JnbZtK7idJ4t"
      },
      "source": [
        "x = df[['Low-income status - applicable','Unemployed','Aboriginal Low-income status - applicable']]\n",
        "y1 = df[['Trafficking incidents']]\n",
        "y2 = df[['Sexploitation incidents']]"
      ],
      "execution_count": 77,
      "outputs": []
    },
    {
      "cell_type": "code",
      "metadata": {
        "id": "OzxIuKEQgkIw"
      },
      "source": [
        "# from sklearn.preprocessing import MinMaxScaler\n",
        "# scaler = MinMaxScaler()\n",
        "from sklearn.preprocessing import StandardScaler\n",
        "scaler = StandardScaler()\n",
        "x_scaled = scaler.fit_transform(x)\n",
        "y1_scaled = scaler.fit_transform(y1)\n",
        "y2_scaled = scaler.fit_transform(y2)"
      ],
      "execution_count": 78,
      "outputs": []
    },
    {
      "cell_type": "code",
      "metadata": {
        "colab": {
          "base_uri": "https://localhost:8080/"
        },
        "id": "9aBMcJceepMe",
        "outputId": "056da186-f899-4912-bc89-7dc1b34dffef"
      },
      "source": [
        "from sklearn.model_selection import train_test_split\n",
        "\n",
        "x_train, x_test, y_train, y_test = train_test_split(x_scaled, y1_scaled, test_size=0.15, random_state=1)\n",
        "\n",
        "print(\"number of test samples :\", x_test.shape[0])\n",
        "print(\"number of training samples:\",x_train.shape[0])"
      ],
      "execution_count": 79,
      "outputs": [
        {
          "output_type": "stream",
          "text": [
            "number of test samples : 3\n",
            "number of training samples: 13\n"
          ],
          "name": "stdout"
        }
      ]
    },
    {
      "cell_type": "code",
      "metadata": {
        "id": "XqrGz3lwex-2"
      },
      "source": [
        "from sklearn.linear_model import LinearRegression"
      ],
      "execution_count": 80,
      "outputs": []
    },
    {
      "cell_type": "code",
      "metadata": {
        "colab": {
          "base_uri": "https://localhost:8080/"
        },
        "id": "Djqqpt-pe6zZ",
        "outputId": "399b5246-2814-41df-dd7b-f27f764e14fd"
      },
      "source": [
        "lre=LinearRegression()\n",
        "lre.fit(x_train, y_train)\n",
        "lre.score(x_test, y_test)"
      ],
      "execution_count": 81,
      "outputs": [
        {
          "output_type": "execute_result",
          "data": {
            "text/plain": [
              "0.9579496818440252"
            ]
          },
          "metadata": {
            "tags": []
          },
          "execution_count": 81
        }
      ]
    },
    {
      "cell_type": "code",
      "metadata": {
        "id": "Uq_mp95xiJNT"
      },
      "source": [
        "y1_train_pred = lre.predict(x_train)\n",
        "y1_test_pred = lre.predict(x_test)"
      ],
      "execution_count": 82,
      "outputs": []
    },
    {
      "cell_type": "code",
      "metadata": {
        "colab": {
          "base_uri": "https://localhost:8080/"
        },
        "id": "BawbG5X7jHWF",
        "outputId": "a03730d5-1133-42ce-af86-861ca54a536f"
      },
      "source": [
        "y1_train_pred[:5]"
      ],
      "execution_count": 83,
      "outputs": [
        {
          "output_type": "execute_result",
          "data": {
            "text/plain": [
              "array([[-0.36056392],\n",
              "       [ 0.0964717 ],\n",
              "       [-0.39044248],\n",
              "       [ 0.22150195],\n",
              "       [-0.4972419 ]])"
            ]
          },
          "metadata": {
            "tags": []
          },
          "execution_count": 83
        }
      ]
    },
    {
      "cell_type": "code",
      "metadata": {
        "colab": {
          "base_uri": "https://localhost:8080/",
          "height": 711
        },
        "id": "9ADDj9BTi3MQ",
        "outputId": "e9861fbb-2ed1-4ce2-ddf0-3475aed4491a"
      },
      "source": [
        "def DistributionPlot(RedFunction, BlueFunction, RedName, BlueName, Title):\n",
        "    width = 12\n",
        "    height = 10\n",
        "    plt.figure(figsize=(width, height))\n",
        "\n",
        "    ax1 = sns.distplot(RedFunction, hist=False, color=\"r\", label=RedName)\n",
        "    ax2 = sns.distplot(BlueFunction, hist=False, color=\"b\", label=BlueName, ax=ax1)\n",
        "\n",
        "    plt.title(Title)\n",
        "    plt.xlabel('Price (in dollars)')\n",
        "    plt.ylabel('Proportion of Cars')\n",
        "\n",
        "    plt.show()\n",
        "    plt.close()\n",
        "\n",
        "Title = 'Distribution Plot of Predicted Value Using Training Data vs Training Data Distribution'\n",
        "DistributionPlot(y_train,y1_train_pred , \"Actual Values (Train)\", \"Predicted Values (Train)\", Title)"
      ],
      "execution_count": 84,
      "outputs": [
        {
          "output_type": "stream",
          "text": [
            "/usr/local/lib/python3.7/dist-packages/seaborn/distributions.py:2557: FutureWarning: `distplot` is a deprecated function and will be removed in a future version. Please adapt your code to use either `displot` (a figure-level function with similar flexibility) or `kdeplot` (an axes-level function for kernel density plots).\n",
            "  warnings.warn(msg, FutureWarning)\n",
            "/usr/local/lib/python3.7/dist-packages/seaborn/distributions.py:2557: FutureWarning: `distplot` is a deprecated function and will be removed in a future version. Please adapt your code to use either `displot` (a figure-level function with similar flexibility) or `kdeplot` (an axes-level function for kernel density plots).\n",
            "  warnings.warn(msg, FutureWarning)\n"
          ],
          "name": "stderr"
        },
        {
          "output_type": "display_data",
          "data": {
            "image/png": "[encoded data removed]",
            "text/plain": [
              "<Figure size 864x720 with 1 Axes>"
            ]
          },
          "metadata": {
            "tags": [],
            "needs_background": "light"
          }
        }
      ]
    },
    {
      "cell_type": "code",
      "metadata": {
        "colab": {
          "base_uri": "https://localhost:8080/",
          "height": 711
        },
        "id": "9bJoV01PjOMX",
        "outputId": "57254904-2e25-48fd-a415-644fb2dbf504"
      },
      "source": [
        "Title='Distribution  Plot of  Predicted Value Using Test Data vs Data Distribution of Test Data'\n",
        "DistributionPlot(y_test,y1_test_pred,\"Actual Values (Test)\",\"Predicted Values (Test)\",Title)"
      ],
      "execution_count": 85,
      "outputs": [
        {
          "output_type": "stream",
          "text": [
            "/usr/local/lib/python3.7/dist-packages/seaborn/distributions.py:2557: FutureWarning: `distplot` is a deprecated function and will be removed in a future version. Please adapt your code to use either `displot` (a figure-level function with similar flexibility) or `kdeplot` (an axes-level function for kernel density plots).\n",
            "  warnings.warn(msg, FutureWarning)\n",
            "/usr/local/lib/python3.7/dist-packages/seaborn/distributions.py:2557: FutureWarning: `distplot` is a deprecated function and will be removed in a future version. Please adapt your code to use either `displot` (a figure-level function with similar flexibility) or `kdeplot` (an axes-level function for kernel density plots).\n",
            "  warnings.warn(msg, FutureWarning)\n"
          ],
          "name": "stderr"
        },
        {
          "output_type": "display_data",
          "data": {
            "image/png": "[encoded data removed]",
            "text/plain": [
              "<Figure size 864x720 with 1 Axes>"
            ]
          },
          "metadata": {
            "tags": [],
            "needs_background": "light"
          }
        }
      ]
    },
    {
      "cell_type": "code",
      "metadata": {
        "colab": {
          "base_uri": "https://localhost:8080/"
        },
        "id": "lEP_X74C2Uza",
        "outputId": "1369d57d-f65e-4de4-a1f7-15d88a348827"
      },
      "source": [
        "print(\"Model prediction error: \" , np.sqrt(((y1_test_pred - y_test) ** 2).mean()))"
      ],
      "execution_count": 114,
      "outputs": [
        {
          "output_type": "stream",
          "text": [
            "Model prediction error:  0.3942812341231104\n"
          ],
          "name": "stdout"
        }
      ]
    },
    {
      "cell_type": "code",
      "metadata": {
        "id": "WkbxoHYOpcU8"
      },
      "source": [
        ""
      ],
      "execution_count": null,
      "outputs": []
    },
    {
      "cell_type": "markdown",
      "metadata": {
        "id": "iE2Gz60kmovD"
      },
      "source": [
        "### Neural Nets"
      ]
    },
    {
      "cell_type": "code",
      "metadata": {
        "colab": {
          "base_uri": "https://localhost:8080/"
        },
        "id": "n2MNbEfvyStL",
        "outputId": "dcbb4f95-3ed1-4446-e6ac-baec0d6f2530"
      },
      "source": [
        "x_train.shape"
      ],
      "execution_count": 87,
      "outputs": [
        {
          "output_type": "execute_result",
          "data": {
            "text/plain": [
              "(13, 3)"
            ]
          },
          "metadata": {
            "tags": []
          },
          "execution_count": 87
        }
      ]
    },
    {
      "cell_type": "code",
      "metadata": {
        "colab": {
          "base_uri": "https://localhost:8080/"
        },
        "id": "HD77Zbwd1O_p",
        "outputId": "6f4c0661-e9d6-4384-9711-92a7a42c5806"
      },
      "source": [
        "y_train.shape"
      ],
      "execution_count": 102,
      "outputs": [
        {
          "output_type": "execute_result",
          "data": {
            "text/plain": [
              "(13, 1)"
            ]
          },
          "metadata": {
            "tags": []
          },
          "execution_count": 102
        }
      ]
    },
    {
      "cell_type": "code",
      "metadata": {
        "colab": {
          "base_uri": "https://localhost:8080/",
          "height": 1000
        },
        "id": "PPJYIVd2mrxu",
        "outputId": "3499a98e-29b5-485a-83ad-003fc20f62ef"
      },
      "source": [
        "import numpy as np\n",
        "from keras.layers import Dense, Activation\n",
        "from keras.models import Sequential\n",
        "\n",
        "model = Sequential()\n",
        "model.add(Dense(32, activation = 'relu', input_dim =3))\n",
        "model.add(Dense(units = 32, activation = 'relu'))\n",
        "model.add(Dense(units = 32, activation = 'relu'))\n",
        "model.add(Dense(units = 1))\n",
        "\n",
        "model.compile(optimizer = 'adam', loss = 'mean_squared_error')\n",
        "model.fit(x_train, y_train, epochs = 100)\n",
        "y_pred = model.predict(x_test)\n",
        "\n",
        "plt.plot(y_test, color = 'red', label = 'Real data')\n",
        "plt.plot(y_pred, color = 'blue', label = 'Predicted data')\n",
        "plt.title('Prediction')\n",
        "plt.legend()\n",
        "plt.show()"
      ],
      "execution_count": 112,
      "outputs": [
        {
          "output_type": "stream",
          "text": [
            "Epoch 1/100\n",
            "1/1 [==============================] - 0s 339ms/step - loss: 0.1162\n",
            "Epoch 2/100\n",
            "1/1 [==============================] - 0s 4ms/step - loss: 0.1101\n",
            "Epoch 3/100\n",
            "1/1 [==============================] - 0s 4ms/step - loss: 0.1045\n",
            "Epoch 4/100\n",
            "1/1 [==============================] - 0s 4ms/step - loss: 0.0996\n",
            "Epoch 5/100\n",
            "1/1 [==============================] - 0s 4ms/step - loss: 0.0953\n",
            "Epoch 6/100\n",
            "1/1 [==============================] - 0s 4ms/step - loss: 0.0916\n",
            "Epoch 7/100\n",
            "1/1 [==============================] - 0s 5ms/step - loss: 0.0884\n",
            "Epoch 8/100\n",
            "1/1 [==============================] - 0s 4ms/step - loss: 0.0857\n",
            "Epoch 9/100\n",
            "1/1 [==============================] - 0s 7ms/step - loss: 0.0834\n",
            "Epoch 10/100\n",
            "1/1 [==============================] - 0s 4ms/step - loss: 0.0816\n",
            "Epoch 11/100\n",
            "1/1 [==============================] - 0s 5ms/step - loss: 0.0801\n",
            "Epoch 12/100\n",
            "1/1 [==============================] - 0s 4ms/step - loss: 0.0790\n",
            "Epoch 13/100\n",
            "1/1 [==============================] - 0s 4ms/step - loss: 0.0782\n",
            "Epoch 14/100\n",
            "1/1 [==============================] - 0s 4ms/step - loss: 0.0776\n",
            "Epoch 15/100\n",
            "1/1 [==============================] - 0s 5ms/step - loss: 0.0770\n",
            "Epoch 16/100\n",
            "1/1 [==============================] - 0s 4ms/step - loss: 0.0766\n",
            "Epoch 17/100\n",
            "1/1 [==============================] - 0s 5ms/step - loss: 0.0760\n",
            "Epoch 18/100\n",
            "1/1 [==============================] - 0s 4ms/step - loss: 0.0754\n",
            "Epoch 19/100\n",
            "1/1 [==============================] - 0s 5ms/step - loss: 0.0747\n",
            "Epoch 20/100\n",
            "1/1 [==============================] - 0s 4ms/step - loss: 0.0739\n",
            "Epoch 21/100\n",
            "1/1 [==============================] - 0s 4ms/step - loss: 0.0731\n",
            "Epoch 22/100\n",
            "1/1 [==============================] - 0s 4ms/step - loss: 0.0721\n",
            "Epoch 23/100\n",
            "1/1 [==============================] - 0s 4ms/step - loss: 0.0711\n",
            "Epoch 24/100\n",
            "1/1 [==============================] - 0s 5ms/step - loss: 0.0703\n",
            "Epoch 25/100\n",
            "1/1 [==============================] - 0s 4ms/step - loss: 0.0696\n",
            "Epoch 26/100\n",
            "1/1 [==============================] - 0s 6ms/step - loss: 0.0688\n",
            "Epoch 27/100\n",
            "1/1 [==============================] - 0s 4ms/step - loss: 0.0681\n",
            "Epoch 28/100\n",
            "1/1 [==============================] - 0s 4ms/step - loss: 0.0674\n",
            "Epoch 29/100\n",
            "1/1 [==============================] - 0s 4ms/step - loss: 0.0667\n",
            "Epoch 30/100\n",
            "1/1 [==============================] - 0s 6ms/step - loss: 0.0660\n",
            "Epoch 31/100\n",
            "1/1 [==============================] - 0s 4ms/step - loss: 0.0654\n",
            "Epoch 32/100\n",
            "1/1 [==============================] - 0s 4ms/step - loss: 0.0649\n",
            "Epoch 33/100\n",
            "1/1 [==============================] - 0s 4ms/step - loss: 0.0645\n",
            "Epoch 34/100\n",
            "1/1 [==============================] - 0s 5ms/step - loss: 0.0640\n",
            "Epoch 35/100\n",
            "1/1 [==============================] - 0s 4ms/step - loss: 0.0635\n",
            "Epoch 36/100\n",
            "1/1 [==============================] - 0s 4ms/step - loss: 0.0630\n",
            "Epoch 37/100\n",
            "1/1 [==============================] - 0s 4ms/step - loss: 0.0624\n",
            "Epoch 38/100\n",
            "1/1 [==============================] - 0s 4ms/step - loss: 0.0618\n",
            "Epoch 39/100\n",
            "1/1 [==============================] - 0s 4ms/step - loss: 0.0612\n",
            "Epoch 40/100\n",
            "1/1 [==============================] - 0s 5ms/step - loss: 0.0607\n",
            "Epoch 41/100\n",
            "1/1 [==============================] - 0s 4ms/step - loss: 0.0601\n",
            "Epoch 42/100\n",
            "1/1 [==============================] - 0s 4ms/step - loss: 0.0595\n",
            "Epoch 43/100\n",
            "1/1 [==============================] - 0s 5ms/step - loss: 0.0589\n",
            "Epoch 44/100\n",
            "1/1 [==============================] - 0s 6ms/step - loss: 0.0583\n",
            "Epoch 45/100\n",
            "1/1 [==============================] - 0s 4ms/step - loss: 0.0577\n",
            "Epoch 46/100\n",
            "1/1 [==============================] - 0s 5ms/step - loss: 0.0572\n",
            "Epoch 47/100\n",
            "1/1 [==============================] - 0s 4ms/step - loss: 0.0566\n",
            "Epoch 48/100\n",
            "1/1 [==============================] - 0s 4ms/step - loss: 0.0561\n",
            "Epoch 49/100\n",
            "1/1 [==============================] - 0s 4ms/step - loss: 0.0555\n",
            "Epoch 50/100\n",
            "1/1 [==============================] - 0s 4ms/step - loss: 0.0549\n",
            "Epoch 51/100\n",
            "1/1 [==============================] - 0s 4ms/step - loss: 0.0543\n",
            "Epoch 52/100\n",
            "1/1 [==============================] - 0s 4ms/step - loss: 0.0537\n",
            "Epoch 53/100\n",
            "1/1 [==============================] - 0s 4ms/step - loss: 0.0531\n",
            "Epoch 54/100\n",
            "1/1 [==============================] - 0s 4ms/step - loss: 0.0526\n",
            "Epoch 55/100\n",
            "1/1 [==============================] - 0s 10ms/step - loss: 0.0519\n",
            "Epoch 56/100\n",
            "1/1 [==============================] - 0s 4ms/step - loss: 0.0513\n",
            "Epoch 57/100\n",
            "1/1 [==============================] - 0s 4ms/step - loss: 0.0507\n",
            "Epoch 58/100\n",
            "1/1 [==============================] - 0s 5ms/step - loss: 0.0502\n",
            "Epoch 59/100\n",
            "1/1 [==============================] - 0s 5ms/step - loss: 0.0496\n",
            "Epoch 60/100\n",
            "1/1 [==============================] - 0s 4ms/step - loss: 0.0490\n",
            "Epoch 61/100\n",
            "1/1 [==============================] - 0s 5ms/step - loss: 0.0484\n",
            "Epoch 62/100\n",
            "1/1 [==============================] - 0s 4ms/step - loss: 0.0479\n",
            "Epoch 63/100\n",
            "1/1 [==============================] - 0s 3ms/step - loss: 0.0473\n",
            "Epoch 64/100\n",
            "1/1 [==============================] - 0s 5ms/step - loss: 0.0467\n",
            "Epoch 65/100\n",
            "1/1 [==============================] - 0s 4ms/step - loss: 0.0462\n",
            "Epoch 66/100\n",
            "1/1 [==============================] - 0s 5ms/step - loss: 0.0456\n",
            "Epoch 67/100\n",
            "1/1 [==============================] - 0s 4ms/step - loss: 0.0451\n",
            "Epoch 68/100\n",
            "1/1 [==============================] - 0s 4ms/step - loss: 0.0445\n",
            "Epoch 69/100\n",
            "1/1 [==============================] - 0s 4ms/step - loss: 0.0439\n",
            "Epoch 70/100\n",
            "1/1 [==============================] - 0s 5ms/step - loss: 0.0434\n",
            "Epoch 71/100\n",
            "1/1 [==============================] - 0s 4ms/step - loss: 0.0428\n",
            "Epoch 72/100\n",
            "1/1 [==============================] - 0s 6ms/step - loss: 0.0423\n",
            "Epoch 73/100\n",
            "1/1 [==============================] - 0s 5ms/step - loss: 0.0417\n",
            "Epoch 74/100\n",
            "1/1 [==============================] - 0s 5ms/step - loss: 0.0412\n",
            "Epoch 75/100\n",
            "1/1 [==============================] - 0s 5ms/step - loss: 0.0407\n",
            "Epoch 76/100\n",
            "1/1 [==============================] - 0s 5ms/step - loss: 0.0402\n",
            "Epoch 77/100\n",
            "1/1 [==============================] - 0s 4ms/step - loss: 0.0397\n",
            "Epoch 78/100\n",
            "1/1 [==============================] - 0s 6ms/step - loss: 0.0392\n",
            "Epoch 79/100\n",
            "1/1 [==============================] - 0s 4ms/step - loss: 0.0386\n",
            "Epoch 80/100\n",
            "1/1 [==============================] - 0s 5ms/step - loss: 0.0381\n",
            "Epoch 81/100\n",
            "1/1 [==============================] - 0s 13ms/step - loss: 0.0376\n",
            "Epoch 82/100\n",
            "1/1 [==============================] - 0s 6ms/step - loss: 0.0371\n",
            "Epoch 83/100\n",
            "1/1 [==============================] - 0s 5ms/step - loss: 0.0365\n",
            "Epoch 84/100\n",
            "1/1 [==============================] - 0s 5ms/step - loss: 0.0360\n",
            "Epoch 85/100\n",
            "1/1 [==============================] - 0s 5ms/step - loss: 0.0354\n",
            "Epoch 86/100\n",
            "1/1 [==============================] - 0s 7ms/step - loss: 0.0349\n",
            "Epoch 87/100\n",
            "1/1 [==============================] - 0s 5ms/step - loss: 0.0343\n",
            "Epoch 88/100\n",
            "1/1 [==============================] - 0s 10ms/step - loss: 0.0338\n",
            "Epoch 89/100\n",
            "1/1 [==============================] - 0s 5ms/step - loss: 0.0333\n",
            "Epoch 90/100\n",
            "1/1 [==============================] - 0s 5ms/step - loss: 0.0328\n",
            "Epoch 91/100\n",
            "1/1 [==============================] - 0s 9ms/step - loss: 0.0322\n",
            "Epoch 92/100\n",
            "1/1 [==============================] - 0s 5ms/step - loss: 0.0317\n",
            "Epoch 93/100\n",
            "1/1 [==============================] - 0s 5ms/step - loss: 0.0312\n",
            "Epoch 94/100\n",
            "1/1 [==============================] - 0s 8ms/step - loss: 0.0306\n",
            "Epoch 95/100\n",
            "1/1 [==============================] - 0s 5ms/step - loss: 0.0301\n",
            "Epoch 96/100\n",
            "1/1 [==============================] - 0s 7ms/step - loss: 0.0295\n",
            "Epoch 97/100\n",
            "1/1 [==============================] - 0s 7ms/step - loss: 0.0289\n",
            "Epoch 98/100\n",
            "1/1 [==============================] - 0s 5ms/step - loss: 0.0284\n",
            "Epoch 99/100\n",
            "1/1 [==============================] - 0s 4ms/step - loss: 0.0278\n",
            "Epoch 100/100\n",
            "1/1 [==============================] - 0s 7ms/step - loss: 0.0273\n",
            "WARNING:tensorflow:11 out of the last 11 calls to <function Model.make_predict_function.<locals>.predict_function at 0x7f236edebc20> triggered tf.function retracing. Tracing is expensive and the excessive number of tracings could be due to (1) creating @tf.function repeatedly in a loop, (2) passing tensors with different shapes, (3) passing Python objects instead of tensors. For (1), please define your @tf.function outside of the loop. For (2), @tf.function has experimental_relax_shapes=True option that relaxes argument shapes that can avoid unnecessary retracing. For (3), please refer to https://www.tensorflow.org/guide/function#controlling_retracing and https://www.tensorflow.org/api_docs/python/tf/function for  more details.\n"
          ],
          "name": "stdout"
        },
        {
          "output_type": "display_data",
          "data": {
            "image/png": "[encoded data removed]",
            "text/plain": [
              "<Figure size 432x288 with 1 Axes>"
            ]
          },
          "metadata": {
            "tags": [],
            "needs_background": "light"
          }
        }
      ]
    },
    {
      "cell_type": "code",
      "metadata": {
        "colab": {
          "base_uri": "https://localhost:8080/"
        },
        "id": "Y1_i_5YRyN4Z",
        "outputId": "8e059691-c825-4c7e-d264-2fc271000821"
      },
      "source": [
        "print(\"Model prediction error: \" , np.sqrt(((y_pred - y_test) ** 2).mean()))"
      ],
      "execution_count": 113,
      "outputs": [
        {
          "output_type": "stream",
          "text": [
            "Model prediction error:  0.6804721953407638\n"
          ],
          "name": "stdout"
        }
      ]
    },
    {
      "cell_type": "code",
      "metadata": {
        "id": "Dt6JKlel17lC"
      },
      "source": [
        ""
      ],
      "execution_count": null,
      "outputs": []
    }
  ]
}